{
 "cells": [
  {
   "cell_type": "markdown",
   "id": "e03709f7",
   "metadata": {},
   "source": [
    "### Inteligencia Artificial\n",
    "El Bootcamp Inteligencia Artificial, nivel intermedio, enseña técnicas de Machine Learning a través de algoritmos, validación y aprendizaje no supervisado acompañados de reconocimiento de patrones para el desarrollo de modelos y casos de uso.\n",
    "\n",
    "\n",
    "**Desarrollo del bootcamp:**\n",
    "<p>1ra Semana</p>\n",
    "<p>Configuración del entorno de trabajo.<br>\n",
    "Google Collab, Anaconda y Visual Estudio Code.</p>"
   ]
  },
  {
   "cell_type": "code",
   "execution_count": 30,
   "id": "e7cf8025",
   "metadata": {},
   "outputs": [],
   "source": [
    "import pandas as pd\n",
    "import numpy as np\n",
    "import seaborn as sns\n",
    "import matplotlib.pyplot as plt"
   ]
  },
  {
   "cell_type": "code",
   "execution_count": 31,
   "id": "6431daba",
   "metadata": {},
   "outputs": [],
   "source": [
    "valClientes = ('Vicky', 'Andres', 'Ricardo', 'Sergio', 'Isa', 'Juan', 'Vlado', 'Nicolas', 'Jhon', 'Fidel')\n",
    "valTarjetas =('MasterCard','Visa','Visa','Visa','MasterCard','Visa','MasterCard','MasterCard','MasterCard','MasterCard')\n",
    "valDac =('Si','No','Si','No','Si','No','Si','Si','No','Si')\n",
    "valCiudad =('Cali','Bogota','Bucaramanga','Cartagena', 'Medellin','Bogota','Cali','Pasto','Bogota','Bogota')\n",
    "valValor =(90000,10000,90000,80000,20000,30000,60000,15000,8000,9000)"
   ]
  },
  {
   "cell_type": "code",
   "execution_count": 32,
   "id": "ebc3b357",
   "metadata": {},
   "outputs": [],
   "source": [
    "dic ={'Clientes':valClientes,\n",
    "      'Tarjetas': valTarjetas, \n",
    "    'DAC':valDac,\n",
    "     'Ciudad': valCiudad,\n",
    "      'Monto':valValor}"
   ]
  },
  {
   "cell_type": "code",
   "execution_count": 33,
   "id": "7ffa7379",
   "metadata": {},
   "outputs": [],
   "source": [
    "df = pd.DataFrame(dic)"
   ]
  },
  {
   "cell_type": "code",
   "execution_count": 34,
   "id": "d3d8a2e7",
   "metadata": {},
   "outputs": [
    {
     "data": {
      "text/html": [
       "<div>\n",
       "<style scoped>\n",
       "    .dataframe tbody tr th:only-of-type {\n",
       "        vertical-align: middle;\n",
       "    }\n",
       "\n",
       "    .dataframe tbody tr th {\n",
       "        vertical-align: top;\n",
       "    }\n",
       "\n",
       "    .dataframe thead th {\n",
       "        text-align: right;\n",
       "    }\n",
       "</style>\n",
       "<table border=\"1\" class=\"dataframe\">\n",
       "  <thead>\n",
       "    <tr style=\"text-align: right;\">\n",
       "      <th></th>\n",
       "      <th>Clientes</th>\n",
       "      <th>Tarjetas</th>\n",
       "      <th>DAC</th>\n",
       "      <th>Ciudad</th>\n",
       "      <th>Monto</th>\n",
       "    </tr>\n",
       "  </thead>\n",
       "  <tbody>\n",
       "    <tr>\n",
       "      <th>0</th>\n",
       "      <td>Vicky</td>\n",
       "      <td>MasterCard</td>\n",
       "      <td>Si</td>\n",
       "      <td>Cali</td>\n",
       "      <td>90000</td>\n",
       "    </tr>\n",
       "    <tr>\n",
       "      <th>1</th>\n",
       "      <td>Andres</td>\n",
       "      <td>Visa</td>\n",
       "      <td>No</td>\n",
       "      <td>Bogota</td>\n",
       "      <td>10000</td>\n",
       "    </tr>\n",
       "    <tr>\n",
       "      <th>2</th>\n",
       "      <td>Ricardo</td>\n",
       "      <td>Visa</td>\n",
       "      <td>Si</td>\n",
       "      <td>Bucaramanga</td>\n",
       "      <td>90000</td>\n",
       "    </tr>\n",
       "    <tr>\n",
       "      <th>3</th>\n",
       "      <td>Sergio</td>\n",
       "      <td>Visa</td>\n",
       "      <td>No</td>\n",
       "      <td>Cartagena</td>\n",
       "      <td>80000</td>\n",
       "    </tr>\n",
       "    <tr>\n",
       "      <th>4</th>\n",
       "      <td>Isa</td>\n",
       "      <td>MasterCard</td>\n",
       "      <td>Si</td>\n",
       "      <td>Medellin</td>\n",
       "      <td>20000</td>\n",
       "    </tr>\n",
       "    <tr>\n",
       "      <th>5</th>\n",
       "      <td>Juan</td>\n",
       "      <td>Visa</td>\n",
       "      <td>No</td>\n",
       "      <td>Bogota</td>\n",
       "      <td>30000</td>\n",
       "    </tr>\n",
       "    <tr>\n",
       "      <th>6</th>\n",
       "      <td>Vlado</td>\n",
       "      <td>MasterCard</td>\n",
       "      <td>Si</td>\n",
       "      <td>Cali</td>\n",
       "      <td>60000</td>\n",
       "    </tr>\n",
       "    <tr>\n",
       "      <th>7</th>\n",
       "      <td>Nicolas</td>\n",
       "      <td>MasterCard</td>\n",
       "      <td>Si</td>\n",
       "      <td>Pasto</td>\n",
       "      <td>15000</td>\n",
       "    </tr>\n",
       "    <tr>\n",
       "      <th>8</th>\n",
       "      <td>Jhon</td>\n",
       "      <td>MasterCard</td>\n",
       "      <td>No</td>\n",
       "      <td>Bogota</td>\n",
       "      <td>8000</td>\n",
       "    </tr>\n",
       "    <tr>\n",
       "      <th>9</th>\n",
       "      <td>Fidel</td>\n",
       "      <td>MasterCard</td>\n",
       "      <td>Si</td>\n",
       "      <td>Bogota</td>\n",
       "      <td>9000</td>\n",
       "    </tr>\n",
       "  </tbody>\n",
       "</table>\n",
       "</div>"
      ],
      "text/plain": [
       "  Clientes    Tarjetas DAC       Ciudad  Monto\n",
       "0    Vicky  MasterCard  Si         Cali  90000\n",
       "1   Andres        Visa  No       Bogota  10000\n",
       "2  Ricardo        Visa  Si  Bucaramanga  90000\n",
       "3   Sergio        Visa  No    Cartagena  80000\n",
       "4      Isa  MasterCard  Si     Medellin  20000\n",
       "5     Juan        Visa  No       Bogota  30000\n",
       "6    Vlado  MasterCard  Si         Cali  60000\n",
       "7  Nicolas  MasterCard  Si        Pasto  15000\n",
       "8     Jhon  MasterCard  No       Bogota   8000\n",
       "9    Fidel  MasterCard  Si       Bogota   9000"
      ]
     },
     "execution_count": 34,
     "metadata": {},
     "output_type": "execute_result"
    }
   ],
   "source": [
    "df"
   ]
  },
  {
   "cell_type": "code",
   "execution_count": 35,
   "id": "7fb842a0",
   "metadata": {},
   "outputs": [],
   "source": [
    "def Segmento (Monto):\n",
    "    if Monto >50000:\n",
    "        return 'Premium'\n",
    "    else:\n",
    "        return 'Clasic'\n",
    "df['Segmentos'] = df['Monto'].apply(Segmento)"
   ]
  },
  {
   "cell_type": "code",
   "execution_count": 36,
   "id": "1facc1e4",
   "metadata": {},
   "outputs": [
    {
     "data": {
      "text/html": [
       "<div>\n",
       "<style scoped>\n",
       "    .dataframe tbody tr th:only-of-type {\n",
       "        vertical-align: middle;\n",
       "    }\n",
       "\n",
       "    .dataframe tbody tr th {\n",
       "        vertical-align: top;\n",
       "    }\n",
       "\n",
       "    .dataframe thead th {\n",
       "        text-align: right;\n",
       "    }\n",
       "</style>\n",
       "<table border=\"1\" class=\"dataframe\">\n",
       "  <thead>\n",
       "    <tr style=\"text-align: right;\">\n",
       "      <th></th>\n",
       "      <th>Clientes</th>\n",
       "      <th>Tarjetas</th>\n",
       "      <th>DAC</th>\n",
       "      <th>Ciudad</th>\n",
       "      <th>Monto</th>\n",
       "      <th>Segmentos</th>\n",
       "    </tr>\n",
       "  </thead>\n",
       "  <tbody>\n",
       "    <tr>\n",
       "      <th>0</th>\n",
       "      <td>Vicky</td>\n",
       "      <td>MasterCard</td>\n",
       "      <td>Si</td>\n",
       "      <td>Cali</td>\n",
       "      <td>90000</td>\n",
       "      <td>Premium</td>\n",
       "    </tr>\n",
       "    <tr>\n",
       "      <th>1</th>\n",
       "      <td>Andres</td>\n",
       "      <td>Visa</td>\n",
       "      <td>No</td>\n",
       "      <td>Bogota</td>\n",
       "      <td>10000</td>\n",
       "      <td>Clasic</td>\n",
       "    </tr>\n",
       "    <tr>\n",
       "      <th>2</th>\n",
       "      <td>Ricardo</td>\n",
       "      <td>Visa</td>\n",
       "      <td>Si</td>\n",
       "      <td>Bucaramanga</td>\n",
       "      <td>90000</td>\n",
       "      <td>Premium</td>\n",
       "    </tr>\n",
       "    <tr>\n",
       "      <th>3</th>\n",
       "      <td>Sergio</td>\n",
       "      <td>Visa</td>\n",
       "      <td>No</td>\n",
       "      <td>Cartagena</td>\n",
       "      <td>80000</td>\n",
       "      <td>Premium</td>\n",
       "    </tr>\n",
       "    <tr>\n",
       "      <th>4</th>\n",
       "      <td>Isa</td>\n",
       "      <td>MasterCard</td>\n",
       "      <td>Si</td>\n",
       "      <td>Medellin</td>\n",
       "      <td>20000</td>\n",
       "      <td>Clasic</td>\n",
       "    </tr>\n",
       "    <tr>\n",
       "      <th>5</th>\n",
       "      <td>Juan</td>\n",
       "      <td>Visa</td>\n",
       "      <td>No</td>\n",
       "      <td>Bogota</td>\n",
       "      <td>30000</td>\n",
       "      <td>Clasic</td>\n",
       "    </tr>\n",
       "    <tr>\n",
       "      <th>6</th>\n",
       "      <td>Vlado</td>\n",
       "      <td>MasterCard</td>\n",
       "      <td>Si</td>\n",
       "      <td>Cali</td>\n",
       "      <td>60000</td>\n",
       "      <td>Premium</td>\n",
       "    </tr>\n",
       "    <tr>\n",
       "      <th>7</th>\n",
       "      <td>Nicolas</td>\n",
       "      <td>MasterCard</td>\n",
       "      <td>Si</td>\n",
       "      <td>Pasto</td>\n",
       "      <td>15000</td>\n",
       "      <td>Clasic</td>\n",
       "    </tr>\n",
       "    <tr>\n",
       "      <th>8</th>\n",
       "      <td>Jhon</td>\n",
       "      <td>MasterCard</td>\n",
       "      <td>No</td>\n",
       "      <td>Bogota</td>\n",
       "      <td>8000</td>\n",
       "      <td>Clasic</td>\n",
       "    </tr>\n",
       "    <tr>\n",
       "      <th>9</th>\n",
       "      <td>Fidel</td>\n",
       "      <td>MasterCard</td>\n",
       "      <td>Si</td>\n",
       "      <td>Bogota</td>\n",
       "      <td>9000</td>\n",
       "      <td>Clasic</td>\n",
       "    </tr>\n",
       "  </tbody>\n",
       "</table>\n",
       "</div>"
      ],
      "text/plain": [
       "  Clientes    Tarjetas DAC       Ciudad  Monto Segmentos\n",
       "0    Vicky  MasterCard  Si         Cali  90000   Premium\n",
       "1   Andres        Visa  No       Bogota  10000    Clasic\n",
       "2  Ricardo        Visa  Si  Bucaramanga  90000   Premium\n",
       "3   Sergio        Visa  No    Cartagena  80000   Premium\n",
       "4      Isa  MasterCard  Si     Medellin  20000    Clasic\n",
       "5     Juan        Visa  No       Bogota  30000    Clasic\n",
       "6    Vlado  MasterCard  Si         Cali  60000   Premium\n",
       "7  Nicolas  MasterCard  Si        Pasto  15000    Clasic\n",
       "8     Jhon  MasterCard  No       Bogota   8000    Clasic\n",
       "9    Fidel  MasterCard  Si       Bogota   9000    Clasic"
      ]
     },
     "execution_count": 36,
     "metadata": {},
     "output_type": "execute_result"
    }
   ],
   "source": [
    "df"
   ]
  },
  {
   "cell_type": "code",
   "execution_count": 37,
   "id": "c5cdc1b3",
   "metadata": {},
   "outputs": [
    {
     "data": {
      "text/plain": [
       "Segmentos\n",
       "Clasic     6\n",
       "Premium    4\n",
       "dtype: int64"
      ]
     },
     "execution_count": 37,
     "metadata": {},
     "output_type": "execute_result"
    }
   ],
   "source": [
    "df.groupby('Segmentos').size()"
   ]
  },
  {
   "cell_type": "code",
   "execution_count": 38,
   "id": "9179821d",
   "metadata": {},
   "outputs": [
    {
     "data": {
      "text/html": [
       "<div>\n",
       "<style scoped>\n",
       "    .dataframe tbody tr th:only-of-type {\n",
       "        vertical-align: middle;\n",
       "    }\n",
       "\n",
       "    .dataframe tbody tr th {\n",
       "        vertical-align: top;\n",
       "    }\n",
       "\n",
       "    .dataframe thead th {\n",
       "        text-align: right;\n",
       "    }\n",
       "</style>\n",
       "<table border=\"1\" class=\"dataframe\">\n",
       "  <thead>\n",
       "    <tr style=\"text-align: right;\">\n",
       "      <th></th>\n",
       "      <th>Monto</th>\n",
       "    </tr>\n",
       "    <tr>\n",
       "      <th>Segmentos</th>\n",
       "      <th></th>\n",
       "    </tr>\n",
       "  </thead>\n",
       "  <tbody>\n",
       "    <tr>\n",
       "      <th>Clasic</th>\n",
       "      <td>92000</td>\n",
       "    </tr>\n",
       "    <tr>\n",
       "      <th>Premium</th>\n",
       "      <td>320000</td>\n",
       "    </tr>\n",
       "  </tbody>\n",
       "</table>\n",
       "</div>"
      ],
      "text/plain": [
       "            Monto\n",
       "Segmentos        \n",
       "Clasic      92000\n",
       "Premium    320000"
      ]
     },
     "execution_count": 38,
     "metadata": {},
     "output_type": "execute_result"
    }
   ],
   "source": [
    "df.groupby('Segmentos').sum('Monto')"
   ]
  },
  {
   "cell_type": "code",
   "execution_count": 44,
   "id": "0bfa5db4",
   "metadata": {},
   "outputs": [
    {
     "data": {
      "image/png": "[encoded data removed]",
      "text/plain": [
       "<Figure size 640x480 with 1 Axes>"
      ]
     },
     "metadata": {},
     "output_type": "display_data"
    }
   ],
   "source": [
    "import matplotlib.pyplot as plt\n",
    "\n",
    "fig, ax = plt.subplots()\n",
    "\n",
    "Segmentos = ['Premium', 'Clasic']\n",
    "Montos = [9200, 320000]\n",
    "bar_labels = ['Premium', 'Clasic']\n",
    "bar_colors = ['tab:red', 'tab:blue', ]\n",
    "\n",
    "ax.bar(Segmentos, Montos, label=bar_labels, color=bar_colors)\n",
    "\n",
    "ax.set_ylabel('Monto o Valor')\n",
    "ax.set_title('Agrupacion por Segmento')\n",
    "ax.legend(title='Tipo Segmento')\n",
    "\n",
    "plt.show()"
   ]
  },
  {
   "cell_type": "code",
   "execution_count": 41,
   "id": "f5951b6c",
   "metadata": {},
   "outputs": [
    {
     "data": {
      "text/html": [
       "<div>\n",
       "<style scoped>\n",
       "    .dataframe tbody tr th:only-of-type {\n",
       "        vertical-align: middle;\n",
       "    }\n",
       "\n",
       "    .dataframe tbody tr th {\n",
       "        vertical-align: top;\n",
       "    }\n",
       "\n",
       "    .dataframe thead th {\n",
       "        text-align: right;\n",
       "    }\n",
       "</style>\n",
       "<table border=\"1\" class=\"dataframe\">\n",
       "  <thead>\n",
       "    <tr style=\"text-align: right;\">\n",
       "      <th></th>\n",
       "      <th>Monto</th>\n",
       "    </tr>\n",
       "    <tr>\n",
       "      <th>Ciudad</th>\n",
       "      <th></th>\n",
       "    </tr>\n",
       "  </thead>\n",
       "  <tbody>\n",
       "    <tr>\n",
       "      <th>Bogota</th>\n",
       "      <td>57000</td>\n",
       "    </tr>\n",
       "    <tr>\n",
       "      <th>Bucaramanga</th>\n",
       "      <td>90000</td>\n",
       "    </tr>\n",
       "    <tr>\n",
       "      <th>Cali</th>\n",
       "      <td>150000</td>\n",
       "    </tr>\n",
       "    <tr>\n",
       "      <th>Cartagena</th>\n",
       "      <td>80000</td>\n",
       "    </tr>\n",
       "    <tr>\n",
       "      <th>Medellin</th>\n",
       "      <td>20000</td>\n",
       "    </tr>\n",
       "    <tr>\n",
       "      <th>Pasto</th>\n",
       "      <td>15000</td>\n",
       "    </tr>\n",
       "  </tbody>\n",
       "</table>\n",
       "</div>"
      ],
      "text/plain": [
       "              Monto\n",
       "Ciudad             \n",
       "Bogota        57000\n",
       "Bucaramanga   90000\n",
       "Cali         150000\n",
       "Cartagena     80000\n",
       "Medellin      20000\n",
       "Pasto         15000"
      ]
     },
     "execution_count": 41,
     "metadata": {},
     "output_type": "execute_result"
    }
   ],
   "source": [
    "df.groupby(['Ciudad']).sum('Monto')"
   ]
  },
  {
   "cell_type": "code",
   "execution_count": 49,
   "id": "391f708e",
   "metadata": {},
   "outputs": [
    {
     "data": {
      "image/png": "[encoded data removed]",
      "text/plain": [
       "<Figure size 640x480 with 1 Axes>"
      ]
     },
     "metadata": {},
     "output_type": "display_data"
    }
   ],
   "source": [
    "fig, ax = plt.subplots()\n",
    "\n",
    "Ciudad = ['Bogota','Bucarmanga', 'Cali','Cartagna','Medellin','Pasto']\n",
    "Montos = [57000,90000,150000,80000,20000,15000]\n",
    "bar_labels = ['Bogota','Bucarmanga', 'Cali','Cartagna','Medellin','Pasto']\n",
    "bar_colors = [\"#619cff\", \"#00ba38\", \"#f8766d\",'#FF6347','#D19FC0','#D83842']\n",
    "\n",
    "ax.bar(Ciudad, Montos, label=bar_labels, color=bar_colors)\n",
    "\n",
    "ax.set_ylabel('Monto o Valor')\n",
    "ax.set_title('Agrupacion por Ciudad')\n",
    "ax.legend(title='Ciudad')\n",
    "\n",
    "plt.show()"
   ]
  },
  {
   "cell_type": "code",
   "execution_count": null,
   "id": "9503b0c4",
   "metadata": {},
   "outputs": [],
   "source": []
  }
 ],
 "metadata": {
  "kernelspec": {
   "display_name": "Python 3 (ipykernel)",
   "language": "python",
   "name": "python3"
  },
  "language_info": {
   "codemirror_mode": {
    "name": "ipython",
    "version": 3
   },
   "file_extension": ".py",
   "mimetype": "text/x-python",
   "name": "python",
   "nbconvert_exporter": "python",
   "pygments_lexer": "ipython3",
   "version": "3.11.5"
  }
 },
 "nbformat": 4,
 "nbformat_minor": 5
}
