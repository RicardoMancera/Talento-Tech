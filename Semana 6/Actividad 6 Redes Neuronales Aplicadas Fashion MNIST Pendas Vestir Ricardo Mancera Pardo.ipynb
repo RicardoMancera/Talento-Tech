{
 "cells": [
  {
   "cell_type": "markdown",
   "id": "17460ae0",
   "metadata": {},
   "source": [
    "El conjunto de datos Fashion MNIST es útil para probar y comparar diferentes\n",
    "algoritmos de clasi\n",
    "\n",
    "cación de imágenes y para enseñar conceptos básicos de\n",
    "aprendizaje automático y visión por computadora. Es un recurso valioso para los\n",
    "investigadores, estudiantes y profesionales que trabajan en estos campos."
   ]
  },
  {
   "cell_type": "markdown",
   "id": "e904d843",
   "metadata": {},
   "source": [
    "Cada ejemplo de entrenamiento y prueba se asigna a una de las siguientes etiquetas:\n",
    "\n",
    "- 0 camiseta\n",
    "- 1 pantalón\n",
    "- 2 suéter\n",
    "- 3 vestido\n",
    "- 4 abrigo\n",
    "- 5 sandalia\n",
    "- 6 camisa\n",
    "- 7 zapatilla de deporte\n",
    "- 8 bolsa\n",
    "- 9 Botín"
   ]
  },
  {
   "cell_type": "markdown",
   "id": "c3c171e0",
   "metadata": {},
   "source": [
    "Carga de datos Fashion MINIST"
   ]
  },
  {
   "cell_type": "code",
   "execution_count": 4,
   "id": "f74b68c1",
   "metadata": {},
   "outputs": [
    {
     "name": "stdout",
     "output_type": "stream",
     "text": [
      "Downloading data from https://storage.googleapis.com/tensorflow/tf-keras-datasets/train-labels-idx1-ubyte.gz\n",
      "\u001b[1m29515/29515\u001b[0m \u001b[32m━━━━━━━━━━━━━━━━━━━━\u001b[0m\u001b[37m\u001b[0m \u001b[1m0s\u001b[0m 1us/step\n",
      "Downloading data from https://storage.googleapis.com/tensorflow/tf-keras-datasets/train-images-idx3-ubyte.gz\n",
      "\u001b[1m26421880/26421880\u001b[0m \u001b[32m━━━━━━━━━━━━━━━━━━━━\u001b[0m\u001b[37m\u001b[0m \u001b[1m13s\u001b[0m 0us/step\n",
      "Downloading data from https://storage.googleapis.com/tensorflow/tf-keras-datasets/t10k-labels-idx1-ubyte.gz\n",
      "\u001b[1m5148/5148\u001b[0m \u001b[32m━━━━━━━━━━━━━━━━━━━━\u001b[0m\u001b[37m\u001b[0m \u001b[1m0s\u001b[0m 0us/step\n",
      "Downloading data from https://storage.googleapis.com/tensorflow/tf-keras-datasets/t10k-images-idx3-ubyte.gz\n",
      "\u001b[1m4422102/4422102\u001b[0m \u001b[32m━━━━━━━━━━━━━━━━━━━━\u001b[0m\u001b[37m\u001b[0m \u001b[1m2s\u001b[0m 0us/step\n"
     ]
    }
   ],
   "source": [
    "import keras\n",
    "fmnist = keras.datasets.fashion_mnist\n",
    "\n",
    "(training_images, training_labels), (test_images,test_labels) = fmnist.load_data()"
   ]
  },
  {
   "cell_type": "markdown",
   "id": "b3b53ea4",
   "metadata": {},
   "source": [
    "Visualizacion de una muestra"
   ]
  },
  {
   "cell_type": "code",
   "execution_count": 8,
   "id": "5891d19c",
   "metadata": {},
   "outputs": [
    {
     "name": "stdout",
     "output_type": "stream",
     "text": [
      "Label:0\n",
      "Image:\n",
      " [[  0   0   0   0   0   1   0   0   0   0  41 188 103  54  48  43  87 168 133  16   0   0   0   0   0   0   0   0]\n",
      " [  0   0   0   1   0   0   0  49 136 219 216 228 236 255 255 255 255 217 215 254 231 160  45   0   0   0   0   0]\n",
      " [  0   0   0   0   0  14 176 222 224 212 203 198 196 200 215 204 202 201 201 201 209 218 224 164   0   0   0   0]\n",
      " [  0   0   0   0   0 188 219 200 198 202 198 199 199 201 196 198 198 200 200 200 200 201 200 225  41   0   0   0]\n",
      " [  0   0   0   0  51 219 199 203 203 212 238 248 250 245 249 246 247 252 248 235 207 203 203 222 140   0   0   0]\n",
      " [  0   0   0   0 116 226 206 204 207 204 101  75  47  73  48  50  45  51  63 113 222 202 206 220 224   0   0   0]\n",
      " [  0   0   0   0 200 222 209 203 215 200   0  70  98   0 103  59  68  71  49   0 219 206 214 210 250  38   0   0]\n",
      " [  0   0   0   0 247 218 212 210 215 214   0 254 243 139 255 174 251 255 205   0 215 217 214 208 220  95   0   0]\n",
      " [  0   0   0  45 226 214 214 215 224 205   0  42  35  60  16  17  12  13  70   0 189 216 212 206 212 156   0   0]\n",
      " [  0   0   0 164 235 214 211 220 216 201  52  71  89  94  83  78  70  76  92  87 206 207 222 213 219 208   0   0]\n",
      " [  0   0   0 106 187 223 237 248 211 198 252 250 248 245 248 252 253 250 252 239 201 212 225 215 193 113   0   0]\n",
      " [  0   0   0   0   0  17  54 159 222 193 208 192 197 200 200 200 200 201 203 195 210 165   0   0   0   0   0   0]\n",
      " [  0   0   0   0   0   0   0  47 225 192 214 203 206 204 204 205 206 204 212 197 218 107   0   0   0   0   0   0]\n",
      " [  0   0   0   0   1   6   0  46 212 195 212 202 206 205 204 205 206 204 212 200 218  91   0   3   1   0   0   0]\n",
      " [  0   0   0   0   0   1   0  11 197 199 205 202 205 206 204 205 207 204 205 205 218  77   0   5   0   0   0   0]\n",
      " [  0   0   0   0   0   3   0   2 191 198 201 205 206 205 205 206 209 206 199 209 219  74   0   5   0   0   0   0]\n",
      " [  0   0   0   0   0   2   0   0 188 197 200 207 207 204 207 207 210 208 198 207 221  72   0   4   0   0   0   0]\n",
      " [  0   0   0   0   0   2   0   0 215 198 203 206 208 205 207 207 210 208 200 202 222  75   0   4   0   0   0   0]\n",
      " [  0   0   0   0   0   1   0   0 212 198 209 206 209 206 208 207 211 206 205 198 221  80   0   3   0   0   0   0]\n",
      " [  0   0   0   0   0   1   0   0 204 201 205 208 207 205 211 205 210 210 209 195 221  96   0   3   0   0   0   0]\n",
      " [  0   0   0   0   0   1   0   0 202 201 205 209 207 205 213 206 210 209 210 194 217 105   0   2   0   0   0   0]\n",
      " [  0   0   0   0   0   1   0   0 204 204 205 208 207 205 215 207 210 208 211 193 213 115   0   2   0   0   0   0]\n",
      " [  0   0   0   0   0   0   0   0 204 207 207 208 206 206 215 210 210 207 212 195 210 118   0   2   0   0   0   0]\n",
      " [  0   0   0   0   0   1   0   0 198 208 208 208 204 207 212 212 210 207 211 196 207 121   0   1   0   0   0   0]\n",
      " [  0   0   0   0   0   1   0   0 198 210 207 208 206 209 213 212 211 207 210 197 207 124   0   1   0   0   0   0]\n",
      " [  0   0   0   0   0   0   0   0 172 210 203 201 199 204 207 205 204 201 205 197 206 127   0   0   0   0   0   0]\n",
      " [  0   0   0   0   0   0   0   0 188 221 214 234 236 238 244 244 244 240 243 214 224 162   0   2   0   0   0   0]\n",
      " [  0   0   0   0   0   1   0   0 139 146 130 135 135 137 125 124 125 121 119 114 130  76   0   0   0   0   0   0]]\n"
     ]
    },
    {
     "data": {
      "text/plain": [
       "<matplotlib.image.AxesImage at 0x294796426d0>"
      ]
     },
     "execution_count": 8,
     "metadata": {},
     "output_type": "execute_result"
    },
    {
     "data": {
      "image/png": "[encoded data removed]",
      "text/plain": [
       "<Figure size 640x480 with 1 Axes>"
      ]
     },
     "metadata": {},
     "output_type": "display_data"
    }
   ],
   "source": [
    "import numpy as np\n",
    "import matplotlib.pyplot as plt\n",
    "\n",
    "index=1\n",
    "\n",
    "np.set_printoptions(linewidth=320)\n",
    "print(f\"Label:{training_labels[index]}\")\n",
    "print(f\"Image:\\n {training_images[index]}\")\n",
    "\n",
    "plt.imshow(training_images[index])"
   ]
  },
  {
   "cell_type": "markdown",
   "id": "cbc94468",
   "metadata": {},
   "source": [
    "Normalizacion de datos"
   ]
  },
  {
   "cell_type": "code",
   "execution_count": 9,
   "id": "5d18d191",
   "metadata": {},
   "outputs": [],
   "source": [
    "training_images = training_images / 255.0\n",
    "test_images = test_images / 255.0"
   ]
  },
  {
   "cell_type": "markdown",
   "id": "cf4f31a5",
   "metadata": {},
   "source": [
    "Construccion del modelo"
   ]
  },
  {
   "cell_type": "code",
   "execution_count": 13,
   "id": "a8568239",
   "metadata": {},
   "outputs": [],
   "source": [
    "model = keras.models.Sequential([keras.layers.Flatten(input_shape=(28,28)),\n",
    "                                 keras.layers.Dense(128, activation='relu'),\n",
    "                                 keras.layers.Dense(10, activation='softmax')])"
   ]
  },
  {
   "cell_type": "markdown",
   "id": "cdd28fd3",
   "metadata": {},
   "source": [
    "Compilacion Modelo"
   ]
  },
  {
   "cell_type": "code",
   "execution_count": 14,
   "id": "3d5793bc",
   "metadata": {},
   "outputs": [
    {
     "data": {
      "text/html": [
       "<pre style=\"white-space:pre;overflow-x:auto;line-height:normal;font-family:Menlo,'DejaVu Sans Mono',consolas,'Courier New',monospace\"><span style=\"font-weight: bold\">Model: \"sequential\"</span>\n",
       "</pre>\n"
      ],
      "text/plain": [
       "\u001b[1mModel: \"sequential\"\u001b[0m\n"
      ]
     },
     "metadata": {},
     "output_type": "display_data"
    },
    {
     "data": {
      "text/html": [
       "<pre style=\"white-space:pre;overflow-x:auto;line-height:normal;font-family:Menlo,'DejaVu Sans Mono',consolas,'Courier New',monospace\">┏━━━━━━━━━━━━━━━━━━━━━━━━━━━━━━━━━┳━━━━━━━━━━━━━━━━━━━━━━━━┳━━━━━━━━━━━━━━━┓\n",
       "┃<span style=\"font-weight: bold\"> Layer (type)                    </span>┃<span style=\"font-weight: bold\"> Output Shape           </span>┃<span style=\"font-weight: bold\">       Param # </span>┃\n",
       "┡━━━━━━━━━━━━━━━━━━━━━━━━━━━━━━━━━╇━━━━━━━━━━━━━━━━━━━━━━━━╇━━━━━━━━━━━━━━━┩\n",
       "│ flatten_2 (<span style=\"color: #0087ff; text-decoration-color: #0087ff\">Flatten</span>)             │ (<span style=\"color: #00d7ff; text-decoration-color: #00d7ff\">None</span>, <span style=\"color: #00af00; text-decoration-color: #00af00\">784</span>)            │             <span style=\"color: #00af00; text-decoration-color: #00af00\">0</span> │\n",
       "├─────────────────────────────────┼────────────────────────┼───────────────┤\n",
       "│ dense_4 (<span style=\"color: #0087ff; text-decoration-color: #0087ff\">Dense</span>)                 │ (<span style=\"color: #00d7ff; text-decoration-color: #00d7ff\">None</span>, <span style=\"color: #00af00; text-decoration-color: #00af00\">128</span>)            │       <span style=\"color: #00af00; text-decoration-color: #00af00\">100,480</span> │\n",
       "├─────────────────────────────────┼────────────────────────┼───────────────┤\n",
       "│ dense_5 (<span style=\"color: #0087ff; text-decoration-color: #0087ff\">Dense</span>)                 │ (<span style=\"color: #00d7ff; text-decoration-color: #00d7ff\">None</span>, <span style=\"color: #00af00; text-decoration-color: #00af00\">10</span>)             │         <span style=\"color: #00af00; text-decoration-color: #00af00\">1,290</span> │\n",
       "└─────────────────────────────────┴────────────────────────┴───────────────┘\n",
       "</pre>\n"
      ],
      "text/plain": [
       "┏━━━━━━━━━━━━━━━━━━━━━━━━━━━━━━━━━┳━━━━━━━━━━━━━━━━━━━━━━━━┳━━━━━━━━━━━━━━━┓\n",
       "┃\u001b[1m \u001b[0m\u001b[1mLayer (type)                   \u001b[0m\u001b[1m \u001b[0m┃\u001b[1m \u001b[0m\u001b[1mOutput Shape          \u001b[0m\u001b[1m \u001b[0m┃\u001b[1m \u001b[0m\u001b[1m      Param #\u001b[0m\u001b[1m \u001b[0m┃\n",
       "┡━━━━━━━━━━━━━━━━━━━━━━━━━━━━━━━━━╇━━━━━━━━━━━━━━━━━━━━━━━━╇━━━━━━━━━━━━━━━┩\n",
       "│ flatten_2 (\u001b[38;5;33mFlatten\u001b[0m)             │ (\u001b[38;5;45mNone\u001b[0m, \u001b[38;5;34m784\u001b[0m)            │             \u001b[38;5;34m0\u001b[0m │\n",
       "├─────────────────────────────────┼────────────────────────┼───────────────┤\n",
       "│ dense_4 (\u001b[38;5;33mDense\u001b[0m)                 │ (\u001b[38;5;45mNone\u001b[0m, \u001b[38;5;34m128\u001b[0m)            │       \u001b[38;5;34m100,480\u001b[0m │\n",
       "├─────────────────────────────────┼────────────────────────┼───────────────┤\n",
       "│ dense_5 (\u001b[38;5;33mDense\u001b[0m)                 │ (\u001b[38;5;45mNone\u001b[0m, \u001b[38;5;34m10\u001b[0m)             │         \u001b[38;5;34m1,290\u001b[0m │\n",
       "└─────────────────────────────────┴────────────────────────┴───────────────┘\n"
      ]
     },
     "metadata": {},
     "output_type": "display_data"
    },
    {
     "data": {
      "text/html": [
       "<pre style=\"white-space:pre;overflow-x:auto;line-height:normal;font-family:Menlo,'DejaVu Sans Mono',consolas,'Courier New',monospace\"><span style=\"font-weight: bold\"> Total params: </span><span style=\"color: #00af00; text-decoration-color: #00af00\">101,770</span> (397.54 KB)\n",
       "</pre>\n"
      ],
      "text/plain": [
       "\u001b[1m Total params: \u001b[0m\u001b[38;5;34m101,770\u001b[0m (397.54 KB)\n"
      ]
     },
     "metadata": {},
     "output_type": "display_data"
    },
    {
     "data": {
      "text/html": [
       "<pre style=\"white-space:pre;overflow-x:auto;line-height:normal;font-family:Menlo,'DejaVu Sans Mono',consolas,'Courier New',monospace\"><span style=\"font-weight: bold\"> Trainable params: </span><span style=\"color: #00af00; text-decoration-color: #00af00\">101,770</span> (397.54 KB)\n",
       "</pre>\n"
      ],
      "text/plain": [
       "\u001b[1m Trainable params: \u001b[0m\u001b[38;5;34m101,770\u001b[0m (397.54 KB)\n"
      ]
     },
     "metadata": {},
     "output_type": "display_data"
    },
    {
     "data": {
      "text/html": [
       "<pre style=\"white-space:pre;overflow-x:auto;line-height:normal;font-family:Menlo,'DejaVu Sans Mono',consolas,'Courier New',monospace\"><span style=\"font-weight: bold\"> Non-trainable params: </span><span style=\"color: #00af00; text-decoration-color: #00af00\">0</span> (0.00 B)\n",
       "</pre>\n"
      ],
      "text/plain": [
       "\u001b[1m Non-trainable params: \u001b[0m\u001b[38;5;34m0\u001b[0m (0.00 B)\n"
      ]
     },
     "metadata": {},
     "output_type": "display_data"
    }
   ],
   "source": [
    "model.compile(optimizer='adam',\n",
    "              loss='sparse_categorical_crossentropy',\n",
    "              metrics=['accuracy'])\n",
    "model.summary()"
   ]
  },
  {
   "cell_type": "markdown",
   "id": "c849d00e",
   "metadata": {},
   "source": [
    "Entrenamiento Modelo"
   ]
  },
  {
   "cell_type": "code",
   "execution_count": 16,
   "id": "2e17c119",
   "metadata": {},
   "outputs": [
    {
     "name": "stdout",
     "output_type": "stream",
     "text": [
      "Epoch 1/10\n",
      "\u001b[1m1875/1875\u001b[0m \u001b[32m━━━━━━━━━━━━━━━━━━━━\u001b[0m\u001b[37m\u001b[0m \u001b[1m3s\u001b[0m 1ms/step - accuracy: 0.7833 - loss: 0.6280\n",
      "Epoch 2/10\n",
      "\u001b[1m1875/1875\u001b[0m \u001b[32m━━━━━━━━━━━━━━━━━━━━\u001b[0m\u001b[37m\u001b[0m \u001b[1m2s\u001b[0m 1ms/step - accuracy: 0.8583 - loss: 0.3889\n",
      "Epoch 3/10\n",
      "\u001b[1m1875/1875\u001b[0m \u001b[32m━━━━━━━━━━━━━━━━━━━━\u001b[0m\u001b[37m\u001b[0m \u001b[1m2s\u001b[0m 1ms/step - accuracy: 0.8774 - loss: 0.3355\n",
      "Epoch 4/10\n",
      "\u001b[1m1875/1875\u001b[0m \u001b[32m━━━━━━━━━━━━━━━━━━━━\u001b[0m\u001b[37m\u001b[0m \u001b[1m2s\u001b[0m 1ms/step - accuracy: 0.8834 - loss: 0.3130\n",
      "Epoch 5/10\n",
      "\u001b[1m1875/1875\u001b[0m \u001b[32m━━━━━━━━━━━━━━━━━━━━\u001b[0m\u001b[37m\u001b[0m \u001b[1m2s\u001b[0m 1ms/step - accuracy: 0.8928 - loss: 0.2924\n",
      "Epoch 6/10\n",
      "\u001b[1m1875/1875\u001b[0m \u001b[32m━━━━━━━━━━━━━━━━━━━━\u001b[0m\u001b[37m\u001b[0m \u001b[1m2s\u001b[0m 1ms/step - accuracy: 0.8955 - loss: 0.2839\n",
      "Epoch 7/10\n",
      "\u001b[1m1875/1875\u001b[0m \u001b[32m━━━━━━━━━━━━━━━━━━━━\u001b[0m\u001b[37m\u001b[0m \u001b[1m2s\u001b[0m 1ms/step - accuracy: 0.9007 - loss: 0.2681\n",
      "Epoch 8/10\n",
      "\u001b[1m1875/1875\u001b[0m \u001b[32m━━━━━━━━━━━━━━━━━━━━\u001b[0m\u001b[37m\u001b[0m \u001b[1m2s\u001b[0m 1ms/step - accuracy: 0.9058 - loss: 0.2515\n",
      "Epoch 9/10\n",
      "\u001b[1m1875/1875\u001b[0m \u001b[32m━━━━━━━━━━━━━━━━━━━━\u001b[0m\u001b[37m\u001b[0m \u001b[1m2s\u001b[0m 1ms/step - accuracy: 0.9074 - loss: 0.2463\n",
      "Epoch 10/10\n",
      "\u001b[1m1875/1875\u001b[0m \u001b[32m━━━━━━━━━━━━━━━━━━━━\u001b[0m\u001b[37m\u001b[0m \u001b[1m2s\u001b[0m 1ms/step - accuracy: 0.9141 - loss: 0.2352\n"
     ]
    }
   ],
   "source": [
    "history = model.fit(training_images, training_labels,epochs=10)"
   ]
  },
  {
   "cell_type": "markdown",
   "id": "34c14763",
   "metadata": {},
   "source": [
    "Graficar historial entrenamiento"
   ]
  },
  {
   "cell_type": "code",
   "execution_count": 18,
   "id": "58f6eb99",
   "metadata": {},
   "outputs": [
    {
     "data": {
      "text/plain": [
       "<Axes: >"
      ]
     },
     "execution_count": 18,
     "metadata": {},
     "output_type": "execute_result"
    },
    {
     "data": {
      "image/png": "[encoded data removed]",
      "text/plain": [
       "<Figure size 640x480 with 1 Axes>"
      ]
     },
     "metadata": {},
     "output_type": "display_data"
    }
   ],
   "source": [
    "import pandas as pd\n",
    "pd.DataFrame(history.history).plot(grid=True)"
   ]
  },
  {
   "cell_type": "markdown",
   "id": "ea1aa9f0",
   "metadata": {},
   "source": [
    "Evaluacion Modelo"
   ]
  },
  {
   "cell_type": "code",
   "execution_count": 22,
   "id": "5e8894e9",
   "metadata": {},
   "outputs": [
    {
     "name": "stdout",
     "output_type": "stream",
     "text": [
      "\u001b[1m1875/1875\u001b[0m \u001b[32m━━━━━━━━━━━━━━━━━━━━\u001b[0m\u001b[37m\u001b[0m \u001b[1m1s\u001b[0m 709us/step - accuracy: 0.9097 - loss: 0.2368\n",
      "Perdida en el conjunto de entrenamiento: 0.23963403701782227\n",
      "Precision en el conjunto de entrenamiento: 0.9086499810218811\n",
      "\u001b[1m313/313\u001b[0m \u001b[32m━━━━━━━━━━━━━━━━━━━━\u001b[0m\u001b[37m\u001b[0m \u001b[1m0s\u001b[0m 709us/step - accuracy: 0.8745 - loss: 0.3502\n",
      "Perdida en el conjunto de prueba: 0.35408660769462585\n",
      "Precision en el conuunto de prueba: 0.8756999969482422\n"
     ]
    }
   ],
   "source": [
    "loss, accuracy = model.evaluate(training_images,\n",
    "                               training_labels)\n",
    "print('Perdida en el conjunto de entrenamiento:', loss)\n",
    "print('Precision en el conjunto de entrenamiento:', accuracy)\n",
    "\n",
    "loss, accuracy = model.evaluate(test_images, test_labels)\n",
    "print('Perdida en el conjunto de prueba:', loss)\n",
    "print('Precision en el conuunto de prueba:', accuracy)"
   ]
  },
  {
   "cell_type": "markdown",
   "id": "fa884c40",
   "metadata": {},
   "source": [
    "Prediccion de una Muestra"
   ]
  },
  {
   "cell_type": "code",
   "execution_count": 23,
   "id": "55bd7112",
   "metadata": {},
   "outputs": [
    {
     "name": "stdout",
     "output_type": "stream",
     "text": [
      "Label: 2\n",
      "\u001b[1m1/1\u001b[0m \u001b[32m━━━━━━━━━━━━━━━━━━━━\u001b[0m\u001b[37m\u001b[0m \u001b[1m0s\u001b[0m 23ms/step\n",
      "classification:\n",
      " [[6.7752284e-05]\n",
      " [1.8444432e-14]\n",
      " [9.9196810e-01]\n",
      " [5.4003330e-11]\n",
      " [7.5929277e-03]\n",
      " [8.5372781e-10]\n",
      " [3.7120184e-04]\n",
      " [4.8783463e-19]\n",
      " [6.6148437e-12]\n",
      " [1.0437431e-13]]\n"
     ]
    }
   ],
   "source": [
    "index = 1\n",
    "print(f'Label: {test_labels[index]}')\n",
    "classification = model.predict(test_images[index:index+1])\n",
    "print(f'classification:\\n {classification.reshape(-1,1)}')"
   ]
  },
  {
   "cell_type": "markdown",
   "id": "3218dd8d",
   "metadata": {},
   "source": [
    "Preguntas de compresion"
   ]
  },
  {
   "cell_type": "markdown",
   "id": "f627d036",
   "metadata": {},
   "source": [
    "1.¿Qué conjunto de datos se utiliza en este\n",
    "código y qué problema de aprendizaje\n",
    "automático se aborda?"
   ]
  },
  {
   "cell_type": "markdown",
   "id": "f0b9f14a",
   "metadata": {},
   "source": [
    "2. ¿Por qué es importante normalizar los valores de píxeles de las imágenes antes de entrenar el modelo?"
   ]
  },
  {
   "cell_type": "markdown",
   "id": "7b2a4a25",
   "metadata": {},
   "source": [
    "3. ¿Qué arquitectura de red neuronal se utiliza en este código y cuántas capas tiene?"
   ]
  },
  {
   "cell_type": "markdown",
   "id": "9049c49f",
   "metadata": {},
   "source": [
    "4. ¿Cuál es la función de activación utilizada en la capa oculta y en la capa de salida de la red neuronal, y por qué se eligen esas funciones?"
   ]
  },
  {
   "cell_type": "markdown",
   "id": "20f06042",
   "metadata": {},
   "source": [
    "5. ¿Cuál es la función de activación utilizada en la capa oculta y en la capa de salida de la red neuronal, y por qué se eligen esas funciones?"
   ]
  },
  {
   "cell_type": "markdown",
   "id": "55540ae8",
   "metadata": {},
   "source": [
    "6. ¿Cuántas épocas se utilizan para entrenar el modelo y por qué se elige ese número?"
   ]
  },
  {
   "cell_type": "markdown",
   "id": "cc94d130",
   "metadata": {},
   "source": [
    "7. ¿Qué significa la función model.summary() y qué información proporciona?"
   ]
  },
  {
   "cell_type": "markdown",
   "id": "cca33763",
   "metadata": {},
   "source": [
    "Ejercicios de Exploracion"
   ]
  },
  {
   "cell_type": "markdown",
   "id": "ed8a45ce",
   "metadata": {},
   "source": [
    "Ejercicio 1: Ejecuta la x de una muestra y observe que el resultado es una lista de números. ¿Por qué crees que es así y qué representan esos números?"
   ]
  },
  {
   "cell_type": "markdown",
   "id": "514b21cb",
   "metadata": {},
   "source": [
    "Ejercicio 2: Examine las capas de su modelo y experimente con diferentes valores para la capa densa como 256 neuronas. Observa cómo varían los resultados en términos de pérdida, tiempo de entrenamiento, etc.\n",
    "¿Por qué crees que ocurre esto?"
   ]
  },
  {
   "cell_type": "markdown",
   "id": "aa29e858",
   "metadata": {},
   "source": [
    "Ejercicio 3: ¿Qué sucedería si eliminas la capa Flatten()?\n",
    "Reflexiona sobre cómo afectaría esto al procesamiento de las imágenes y por qué."
   ]
  },
  {
   "cell_type": "markdown",
   "id": "9ae4b812",
   "metadata": {},
   "source": [
    "Ejercicio 4: Considera las capas finales (de salida).\n",
    "\n",
    "¿Por qué hay 10 de ellas? ¿Qué pasaría si tuvieras una cantidad diferente a 10?\n",
    "Intenta entrenar la red con un número diferente de capas finales y reflexiona sobre cómo afectaría esto a la capacidad de clasicación del modelo."
   ]
  },
  {
   "cell_type": "markdown",
   "id": "ace8cc16",
   "metadata": {},
   "source": [
    "Ejercicio 5: Explora los efectos de añadir otra capa entre la capa con 256 neuronas y la capa final con 10. Observa cómo esto podría afectar la capacidad del modelo para capturar características\n",
    "complejas de los datos de entrada y cómo afecta el rendimiento general del modelo."
   ]
  },
  {
   "cell_type": "markdown",
   "id": "15817fd8",
   "metadata": {},
   "source": [
    "Ejercicio 6: Considera el impacto de entrenar durante más o menos épocas.\n",
    "Experimenta con diferentes números de épocas y reflexiona sobre cómo esto afecta la mejora del modelo en términos de pérdida y precisión."
   ]
  },
  {
   "cell_type": "markdown",
   "id": "6d6c1751",
   "metadata": {},
   "source": [
    "Ejercicio 7: Reflexiona sobre el impacto de eliminar la normalización de los datos antes del entrenamiento. Ejecuta el código sin normalización y observa cómo difieren los resultados.\n",
    "\n",
    "¿Por qué crees que ocurre esto?"
   ]
  }
 ],
 "metadata": {
  "kernelspec": {
   "display_name": "Python 3 (ipykernel)",
   "language": "python",
   "name": "python3"
  },
  "language_info": {
   "codemirror_mode": {
    "name": "ipython",
    "version": 3
   },
   "file_extension": ".py",
   "mimetype": "text/x-python",
   "name": "python",
   "nbconvert_exporter": "python",
   "pygments_lexer": "ipython3",
   "version": "3.11.5"
  }
 },
 "nbformat": 4,
 "nbformat_minor": 5
}
