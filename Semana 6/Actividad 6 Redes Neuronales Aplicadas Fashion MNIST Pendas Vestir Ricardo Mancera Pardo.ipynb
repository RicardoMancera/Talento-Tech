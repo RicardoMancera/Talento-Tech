{
 "cells": [
  {
   "cell_type": "markdown",
   "id": "17460ae0",
   "metadata": {},
   "source": [
    "El conjunto de datos Fashion MNIST es útil para probar y comparar diferentes\n",
    "algoritmos de clasi\n",
    "\n",
    "cación de imágenes y para enseñar conceptos básicos de\n",
    "aprendizaje automático y visión por computadora. Es un recurso valioso para los\n",
    "investigadores, estudiantes y profesionales que trabajan en estos campos."
   ]
  },
  {
   "cell_type": "markdown",
   "id": "e904d843",
   "metadata": {},
   "source": [
    "Cada ejemplo de entrenamiento y prueba se asigna a una de las siguientes etiquetas:\n",
    "\n",
    "- 0 camiseta\n",
    "- 1 pantalón\n",
    "- 2 suéter\n",
    "- 3 vestido\n",
    "- 4 abrigo\n",
    "- 5 sandalia\n",
    "- 6 camisa\n",
    "- 7 zapatilla de deporte\n",
    "- 8 bolsa\n",
    "- 9 Botín"
   ]
  },
  {
   "cell_type": "markdown",
   "id": "c3c171e0",
   "metadata": {},
   "source": [
    "Carga de datos Fashion MINIST"
   ]
  },
  {
   "cell_type": "code",
   "execution_count": null,
   "id": "f74b68c1",
   "metadata": {},
   "outputs": [],
   "source": [
    "impot keras\n",
    "fmnist = keras.datasets.fashion_mnist\n",
    "\n",
    "(training_images, training_labels), \n",
    "(test_images,test_labels) = fmnist-load_data()"
   ]
  },
  {
   "cell_type": "markdown",
   "id": "b3b53ea4",
   "metadata": {},
   "source": [
    "Visualizacion de una muestra"
   ]
  },
  {
   "cell_type": "code",
   "execution_count": null,
   "id": "5891d19c",
   "metadata": {},
   "outputs": [],
   "source": [
    "import numpy as np\n",
    "import matplotlib.pyplot as plt\n",
    "\n",
    "index=1\n",
    "\n",
    "np.set_printtoptions(linewidth=320)\n",
    "print(f'label:{training_labels{[index]}')\n",
    "print(f'Image:\\n {training_images{[index]}')\n",
    "\n",
    "plt.imshow(training_images[index])"
   ]
  },
  {
   "cell_type": "markdown",
   "id": "cbc94468",
   "metadata": {},
   "source": [
    "Normalizacion de datos"
   ]
  },
  {
   "cell_type": "code",
   "execution_count": null,
   "id": "5d18d191",
   "metadata": {},
   "outputs": [],
   "source": [
    "training_images = training_images / 255.0\n",
    "test_images = test_images / 255.0"
   ]
  },
  {
   "cell_type": "markdown",
   "id": "cf4f31a5",
   "metadata": {},
   "source": [
    "Construccion del modelo"
   ]
  },
  {
   "cell_type": "code",
   "execution_count": null,
   "id": "a8568239",
   "metadata": {},
   "outputs": [],
   "source": [
    "model = \n",
    "keras.models.Sequential([keras.layers.Flatten(input_shape=(28,28)),\n",
    "keras.layers.Dense(128, activation='relu'),\n",
    "keras.layers.Dense(10, activatio='softmas')])"
   ]
  },
  {
   "cell_type": "markdown",
   "id": "cdd28fd3",
   "metadata": {},
   "source": [
    "Compilacion Modelo"
   ]
  },
  {
   "cell_type": "code",
   "execution_count": null,
   "id": "3d5793bc",
   "metadata": {},
   "outputs": [],
   "source": [
    "model.compile(optimizer='adam',\n",
    "              loss='sparse_categorical_crossentropy',\n",
    "              metrics=['accuracy'])\n",
    "model.summary()"
   ]
  },
  {
   "cell_type": "markdown",
   "id": "c849d00e",
   "metadata": {},
   "source": [
    "Entrenamiento Modelo"
   ]
  },
  {
   "cell_type": "code",
   "execution_count": null,
   "id": "2e17c119",
   "metadata": {},
   "outputs": [],
   "source": [
    "history = model.fit(training_images, training_labels,peochs=10)"
   ]
  },
  {
   "cell_type": "markdown",
   "id": "34c14763",
   "metadata": {},
   "source": [
    "Graficar historial entrenamiento"
   ]
  },
  {
   "cell_type": "code",
   "execution_count": null,
   "id": "58f6eb99",
   "metadata": {},
   "outputs": [],
   "source": [
    "pd.DataFrame(history.history).plot(grid=True)"
   ]
  },
  {
   "cell_type": "markdown",
   "id": "ea1aa9f0",
   "metadata": {},
   "source": [
    "Evaluacion Modelo"
   ]
  },
  {
   "cell_type": "code",
   "execution_count": null,
   "id": "5e8894e9",
   "metadata": {},
   "outputs": [],
   "source": [
    "loss, accuracy = model.evaluate(traning_images,\n",
    "                               training_labels)\n",
    "print('Perdida en el conjunto de entrenamiento:', loss)\n",
    "print('Precision en el conjunto de entrenamiento:', acurrancy)\n",
    "\n",
    "loss, accuracy = model.evaluate(test_images, test_labels)\n",
    "print('Perdida en el conjunto de prueba:', loss)\n",
    "print('Precision en el conuunto de prueba:', accuracy)"
   ]
  },
  {
   "cell_type": "markdown",
   "id": "fa884c40",
   "metadata": {},
   "source": [
    "Prediccion de una Muestra"
   ]
  },
  {
   "cell_type": "code",
   "execution_count": null,
   "id": "55bd7112",
   "metadata": {},
   "outputs": [],
   "source": [
    "index = 1\n",
    "print(f'Label: {test_labels[index]}')\n",
    "classification = model.predict(test_images[index:index+1])\n",
    "print(f'classification:\\n {classification.reshape(-1,1)}')"
   ]
  },
  {
   "cell_type": "markdown",
   "id": "3218dd8d",
   "metadata": {},
   "source": [
    "Preguntas de compresion"
   ]
  },
  {
   "cell_type": "markdown",
   "id": "f627d036",
   "metadata": {},
   "source": [
    "1.¿Qué conjunto de datos se utiliza en este\n",
    "código y qué problema de aprendizaje\n",
    "automático se aborda?"
   ]
  },
  {
   "cell_type": "markdown",
   "id": "f0b9f14a",
   "metadata": {},
   "source": [
    "2. ¿Por qué es importante normalizar los valores de píxeles de las imágenes antes de entrenar el modelo?"
   ]
  },
  {
   "cell_type": "markdown",
   "id": "7b2a4a25",
   "metadata": {},
   "source": [
    "3. ¿Qué arquitectura de red neuronal se utiliza en este código y cuántas capas tiene?"
   ]
  },
  {
   "cell_type": "markdown",
   "id": "9049c49f",
   "metadata": {},
   "source": [
    "4. ¿Cuál es la función de activación utilizada en la capa oculta y en la capa de salida de la red neuronal, y por qué se eligen esas funciones?"
   ]
  },
  {
   "cell_type": "markdown",
   "id": "20f06042",
   "metadata": {},
   "source": [
    "5. ¿Cuál es la función de activación utilizada en la capa oculta y en la capa de salida de la red neuronal, y por qué se eligen esas funciones?"
   ]
  },
  {
   "cell_type": "markdown",
   "id": "55540ae8",
   "metadata": {},
   "source": [
    "6. ¿Cuántas épocas se utilizan para entrenar el modelo y por qué se elige ese número?"
   ]
  },
  {
   "cell_type": "markdown",
   "id": "cc94d130",
   "metadata": {},
   "source": [
    "7. ¿Qué significa la función model.summary() y qué información proporciona?"
   ]
  },
  {
   "cell_type": "markdown",
   "id": "cca33763",
   "metadata": {},
   "source": [
    "Ejercicios de Exploracion"
   ]
  },
  {
   "cell_type": "markdown",
   "id": "ed8a45ce",
   "metadata": {},
   "source": [
    "Ejercicio 1: Ejecuta la x de una muestra y observe que el resultado es una lista de números. ¿Por qué crees que es así y qué representan esos números?"
   ]
  },
  {
   "cell_type": "markdown",
   "id": "514b21cb",
   "metadata": {},
   "source": [
    "Ejercicio 2: Examine las capas de su modelo y experimente con diferentes valores para la capa densa como 256 neuronas. Observa cómo varían los resultados en términos de pérdida, tiempo de entrenamiento, etc.\n",
    "¿Por qué crees que ocurre esto?"
   ]
  },
  {
   "cell_type": "markdown",
   "id": "aa29e858",
   "metadata": {},
   "source": [
    "Ejercicio 3: ¿Qué sucedería si eliminas la capa Flatten()?\n",
    "Reflexiona sobre cómo afectaría esto al procesamiento de las imágenes y por qué."
   ]
  },
  {
   "cell_type": "markdown",
   "id": "9ae4b812",
   "metadata": {},
   "source": [
    "Ejercicio 4: Considera las capas finales (de salida).\n",
    "\n",
    "¿Por qué hay 10 de ellas? ¿Qué pasaría si tuvieras una cantidad diferente a 10?\n",
    "Intenta entrenar la red con un número diferente de capas finales y reflexiona sobre cómo afectaría esto a la capacidad de clasicación del modelo."
   ]
  },
  {
   "cell_type": "markdown",
   "id": "ace8cc16",
   "metadata": {},
   "source": [
    "Ejercicio 5: Explora los efectos de añadir otra capa entre la capa con 256 neuronas y la capa final con 10. Observa cómo esto podría afectar la capacidad del modelo para capturar características\n",
    "complejas de los datos de entrada y cómo afecta el rendimiento general del modelo."
   ]
  },
  {
   "cell_type": "markdown",
   "id": "15817fd8",
   "metadata": {},
   "source": [
    "Ejercicio 6: Considera el impacto de entrenar durante más o menos épocas.\n",
    "Experimenta con diferentes números de épocas y reflexiona sobre cómo esto afecta la mejora del modelo en términos de pérdida y precisión."
   ]
  },
  {
   "cell_type": "markdown",
   "id": "6d6c1751",
   "metadata": {},
   "source": [
    "Ejercicio 7: Reflexiona sobre el impacto de eliminar la normalización de los datos antes del entrenamiento. Ejecuta el código sin normalización y observa cómo difieren los resultados.\n",
    "\n",
    "¿Por qué crees que ocurre esto?"
   ]
  }
 ],
 "metadata": {
  "kernelspec": {
   "display_name": "Python 3 (ipykernel)",
   "language": "python",
   "name": "python3"
  },
  "language_info": {
   "codemirror_mode": {
    "name": "ipython",
    "version": 3
   },
   "file_extension": ".py",
   "mimetype": "text/x-python",
   "name": "python",
   "nbconvert_exporter": "python",
   "pygments_lexer": "ipython3",
   "version": "3.11.5"
  }
 },
 "nbformat": 4,
 "nbformat_minor": 5
}
