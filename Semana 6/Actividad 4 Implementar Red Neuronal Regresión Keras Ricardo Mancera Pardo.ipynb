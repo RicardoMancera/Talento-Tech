{
 "cells": [
  {
   "cell_type": "code",
   "execution_count": 4,
   "id": "a64fa819",
   "metadata": {},
   "outputs": [],
   "source": [
    "import keras\n",
    "from sklearn.datasets import fetch_california_housing\n",
    "from sklearn.model_selection import train_test_split\n",
    "from sklearn.preprocessing import StandardScaler\n",
    "\n",
    "import pandas as pd\n",
    "import matplotlib.pyplot as plt"
   ]
  },
  {
   "cell_type": "markdown",
   "id": "5953069c",
   "metadata": {},
   "source": [
    "##### Cargue de Datos"
   ]
  },
  {
   "cell_type": "code",
   "execution_count": 5,
   "id": "ffcd800d",
   "metadata": {},
   "outputs": [],
   "source": [
    "housing = fetch_california_housing()"
   ]
  },
  {
   "cell_type": "markdown",
   "id": "b21d772f",
   "metadata": {},
   "source": [
    "#### Crear Conjunto de dato de entrenamiento, validacion y prueba"
   ]
  },
  {
   "cell_type": "code",
   "execution_count": 7,
   "id": "4d9626ae",
   "metadata": {},
   "outputs": [
    {
     "name": "stdout",
     "output_type": "stream",
     "text": [
      "X_train: (11610, 8)\n",
      "X_test: (5160, 8)\n",
      "X_valid: (3870, 8)\n",
      "y_train: (11610,)\n",
      "y_test: (5160,)\n",
      "y_valid: (3870,)\n"
     ]
    }
   ],
   "source": [
    "X_train_full, X_test, y_train_full, y_test = train_test_split(housing.data,\n",
    "                                                             housing.target)\n",
    "\n",
    "X_train, X_valid, y_train, y_valid = train_test_split(X_train_full, \n",
    "                                                      y_train_full)\n",
    "\n",
    "print('X_train:',X_train.shape)\n",
    "print('X_test:',X_test.shape)\n",
    "print('X_valid:',X_valid.shape)\n",
    "print('y_train:',y_train.shape)\n",
    "print('y_test:',y_test.shape)\n",
    "print('y_valid:',y_valid.shape)"
   ]
  },
  {
   "cell_type": "markdown",
   "id": "8c263716",
   "metadata": {},
   "source": [
    "#### Escalar Datos"
   ]
  },
  {
   "cell_type": "code",
   "execution_count": 8,
   "id": "be31c74d",
   "metadata": {},
   "outputs": [],
   "source": [
    "scaler = StandardScaler()\n",
    "X_train = scaler.fit_transform(X_train)\n",
    "X_test = scaler.transform(X_test)\n",
    "X_valid = scaler.transform(X_valid)"
   ]
  },
  {
   "cell_type": "markdown",
   "id": "fd1b0037",
   "metadata": {},
   "source": [
    "#### Modelo de red neuronal"
   ]
  },
  {
   "cell_type": "code",
   "execution_count": 9,
   "id": "1bbcf579",
   "metadata": {},
   "outputs": [
    {
     "name": "stderr",
     "output_type": "stream",
     "text": [
      "C:\\Users\\ricar\\anaconda3\\Lib\\site-packages\\keras\\src\\layers\\core\\dense.py:87: UserWarning: Do not pass an `input_shape`/`input_dim` argument to a layer. When using Sequential models, prefer using an `Input(shape)` object as the first layer in the model instead.\n",
      "  super().__init__(activity_regularizer=activity_regularizer, **kwargs)\n"
     ]
    }
   ],
   "source": [
    "model = keras.models.Sequential([keras.layers.Dense(30, activation='relu',\n",
    "                                                   input_shape=X_train.shape[1:]),\n",
    "                                keras.layers.Dense(1)])"
   ]
  },
  {
   "cell_type": "markdown",
   "id": "34e7547c",
   "metadata": {},
   "source": [
    "#### Compilar Modelo"
   ]
  },
  {
   "cell_type": "code",
   "execution_count": 14,
   "id": "541b5a8f",
   "metadata": {},
   "outputs": [],
   "source": [
    "model.compile(loss='mean_squared_error',optimizer='sgd',\n",
    "             metrics =[keras.metrics.RootMeanSquaredError(),\n",
    "                      'mean_absolute_percentage_error'])"
   ]
  },
  {
   "cell_type": "markdown",
   "id": "baf3fa05",
   "metadata": {},
   "source": [
    "#### Enternar Modelo"
   ]
  },
  {
   "cell_type": "code",
   "execution_count": 15,
   "id": "64297431",
   "metadata": {},
   "outputs": [
    {
     "name": "stdout",
     "output_type": "stream",
     "text": [
      "Epoch 1/10\n",
      "\u001b[1m363/363\u001b[0m \u001b[32m━━━━━━━━━━━━━━━━━━━━\u001b[0m\u001b[37m\u001b[0m \u001b[1m1s\u001b[0m 1ms/step - loss: 1.3054 - mean_absolute_percentage_error: 43.5657 - root_mean_squared_error: 1.1088 - val_loss: 0.6140 - val_mean_absolute_percentage_error: 33.3830 - val_root_mean_squared_error: 0.7836\n",
      "Epoch 2/10\n",
      "\u001b[1m363/363\u001b[0m \u001b[32m━━━━━━━━━━━━━━━━━━━━\u001b[0m\u001b[37m\u001b[0m \u001b[1m0s\u001b[0m 876us/step - loss: 0.6790 - mean_absolute_percentage_error: 32.1487 - root_mean_squared_error: 0.8184 - val_loss: 0.6239 - val_mean_absolute_percentage_error: 36.2980 - val_root_mean_squared_error: 0.7899\n",
      "Epoch 3/10\n",
      "\u001b[1m363/363\u001b[0m \u001b[32m━━━━━━━━━━━━━━━━━━━━\u001b[0m\u001b[37m\u001b[0m \u001b[1m0s\u001b[0m 831us/step - loss: 0.5652 - mean_absolute_percentage_error: 31.8549 - root_mean_squared_error: 0.7510 - val_loss: 0.4781 - val_mean_absolute_percentage_error: 27.2647 - val_root_mean_squared_error: 0.6914\n",
      "Epoch 4/10\n",
      "\u001b[1m363/363\u001b[0m \u001b[32m━━━━━━━━━━━━━━━━━━━━\u001b[0m\u001b[37m\u001b[0m \u001b[1m0s\u001b[0m 911us/step - loss: 0.4611 - mean_absolute_percentage_error: 28.2355 - root_mean_squared_error: 0.6789 - val_loss: 0.4514 - val_mean_absolute_percentage_error: 27.2228 - val_root_mean_squared_error: 0.6718\n",
      "Epoch 5/10\n",
      "\u001b[1m363/363\u001b[0m \u001b[32m━━━━━━━━━━━━━━━━━━━━\u001b[0m\u001b[37m\u001b[0m \u001b[1m0s\u001b[0m 852us/step - loss: 0.4279 - mean_absolute_percentage_error: 26.6631 - root_mean_squared_error: 0.6540 - val_loss: 0.4314 - val_mean_absolute_percentage_error: 26.5926 - val_root_mean_squared_error: 0.6568\n",
      "Epoch 6/10\n",
      "\u001b[1m363/363\u001b[0m \u001b[32m━━━━━━━━━━━━━━━━━━━━\u001b[0m\u001b[37m\u001b[0m \u001b[1m0s\u001b[0m 867us/step - loss: 0.4303 - mean_absolute_percentage_error: 26.0637 - root_mean_squared_error: 0.6557 - val_loss: 0.4254 - val_mean_absolute_percentage_error: 26.1101 - val_root_mean_squared_error: 0.6522\n",
      "Epoch 7/10\n",
      "\u001b[1m363/363\u001b[0m \u001b[32m━━━━━━━━━━━━━━━━━━━━\u001b[0m\u001b[37m\u001b[0m \u001b[1m0s\u001b[0m 818us/step - loss: 0.4051 - mean_absolute_percentage_error: 25.9140 - root_mean_squared_error: 0.6362 - val_loss: 0.4219 - val_mean_absolute_percentage_error: 27.5197 - val_root_mean_squared_error: 0.6495\n",
      "Epoch 8/10\n",
      "\u001b[1m363/363\u001b[0m \u001b[32m━━━━━━━━━━━━━━━━━━━━\u001b[0m\u001b[37m\u001b[0m \u001b[1m0s\u001b[0m 872us/step - loss: 0.3867 - mean_absolute_percentage_error: 25.4289 - root_mean_squared_error: 0.6218 - val_loss: 0.4106 - val_mean_absolute_percentage_error: 25.9875 - val_root_mean_squared_error: 0.6407\n",
      "Epoch 9/10\n",
      "\u001b[1m363/363\u001b[0m \u001b[32m━━━━━━━━━━━━━━━━━━━━\u001b[0m\u001b[37m\u001b[0m \u001b[1m0s\u001b[0m 901us/step - loss: 0.4147 - mean_absolute_percentage_error: 26.0130 - root_mean_squared_error: 0.6437 - val_loss: 0.4053 - val_mean_absolute_percentage_error: 25.2652 - val_root_mean_squared_error: 0.6366\n",
      "Epoch 10/10\n",
      "\u001b[1m363/363\u001b[0m \u001b[32m━━━━━━━━━━━━━━━━━━━━\u001b[0m\u001b[37m\u001b[0m \u001b[1m0s\u001b[0m 966us/step - loss: 0.3975 - mean_absolute_percentage_error: 25.4937 - root_mean_squared_error: 0.6304 - val_loss: 0.4023 - val_mean_absolute_percentage_error: 25.7543 - val_root_mean_squared_error: 0.6343\n"
     ]
    }
   ],
   "source": [
    "history = model.fit(X_train, y_train,\n",
    "                   epochs=10,\n",
    "                   validation_data = (X_valid, y_valid))"
   ]
  },
  {
   "cell_type": "markdown",
   "id": "ed5e807b",
   "metadata": {},
   "source": [
    "#### Graficar Historial Entrenamiento"
   ]
  },
  {
   "cell_type": "code",
   "execution_count": 16,
   "id": "3c3fb7a7",
   "metadata": {},
   "outputs": [
    {
     "ename": "KeyError",
     "evalue": "\"['Val_mean_absolute_percentage_error'] not in index\"",
     "output_type": "error",
     "traceback": [
      "\u001b[1;31m---------------------------------------------------------------------------\u001b[0m",
      "\u001b[1;31mKeyError\u001b[0m                                  Traceback (most recent call last)",
      "Cell \u001b[1;32mIn[16], line 4\u001b[0m\n\u001b[0;32m      1\u001b[0m dfHistory \u001b[38;5;241m=\u001b[39m pd\u001b[38;5;241m.\u001b[39mDataFrame(history\u001b[38;5;241m.\u001b[39mhistory)\n\u001b[0;32m      2\u001b[0m dfHistory[[\u001b[38;5;124m'\u001b[39m\u001b[38;5;124mloss\u001b[39m\u001b[38;5;124m'\u001b[39m,\u001b[38;5;124m'\u001b[39m\u001b[38;5;124mval_loss\u001b[39m\u001b[38;5;124m'\u001b[39m,\u001b[38;5;124m'\u001b[39m\u001b[38;5;124mroot_mean_squared_error\u001b[39m\u001b[38;5;124m'\u001b[39m,\n\u001b[0;32m      3\u001b[0m            \u001b[38;5;124m'\u001b[39m\u001b[38;5;124mval_root_mean_squared_error\u001b[39m\u001b[38;5;124m'\u001b[39m]]\u001b[38;5;241m.\u001b[39mplot(grid\u001b[38;5;241m=\u001b[39m\u001b[38;5;28;01mTrue\u001b[39;00m)\n\u001b[1;32m----> 4\u001b[0m dfHistory[[\u001b[38;5;124m'\u001b[39m\u001b[38;5;124mmean_absolute_percentage_error\u001b[39m\u001b[38;5;124m'\u001b[39m,\n\u001b[0;32m      5\u001b[0m           \u001b[38;5;124m'\u001b[39m\u001b[38;5;124mVal_mean_absolute_percentage_error\u001b[39m\u001b[38;5;124m'\u001b[39m]]\u001b[38;5;241m.\u001b[39mplot(grid\u001b[38;5;241m=\u001b[39m\u001b[38;5;28;01mTrue\u001b[39;00m)\n",
      "File \u001b[1;32m~\\anaconda3\\Lib\\site-packages\\pandas\\core\\frame.py:3767\u001b[0m, in \u001b[0;36mDataFrame.__getitem__\u001b[1;34m(self, key)\u001b[0m\n\u001b[0;32m   3765\u001b[0m     \u001b[38;5;28;01mif\u001b[39;00m is_iterator(key):\n\u001b[0;32m   3766\u001b[0m         key \u001b[38;5;241m=\u001b[39m \u001b[38;5;28mlist\u001b[39m(key)\n\u001b[1;32m-> 3767\u001b[0m     indexer \u001b[38;5;241m=\u001b[39m \u001b[38;5;28mself\u001b[39m\u001b[38;5;241m.\u001b[39mcolumns\u001b[38;5;241m.\u001b[39m_get_indexer_strict(key, \u001b[38;5;124m\"\u001b[39m\u001b[38;5;124mcolumns\u001b[39m\u001b[38;5;124m\"\u001b[39m)[\u001b[38;5;241m1\u001b[39m]\n\u001b[0;32m   3769\u001b[0m \u001b[38;5;66;03m# take() does not accept boolean indexers\u001b[39;00m\n\u001b[0;32m   3770\u001b[0m \u001b[38;5;28;01mif\u001b[39;00m \u001b[38;5;28mgetattr\u001b[39m(indexer, \u001b[38;5;124m\"\u001b[39m\u001b[38;5;124mdtype\u001b[39m\u001b[38;5;124m\"\u001b[39m, \u001b[38;5;28;01mNone\u001b[39;00m) \u001b[38;5;241m==\u001b[39m \u001b[38;5;28mbool\u001b[39m:\n",
      "File \u001b[1;32m~\\anaconda3\\Lib\\site-packages\\pandas\\core\\indexes\\base.py:5877\u001b[0m, in \u001b[0;36mIndex._get_indexer_strict\u001b[1;34m(self, key, axis_name)\u001b[0m\n\u001b[0;32m   5874\u001b[0m \u001b[38;5;28;01melse\u001b[39;00m:\n\u001b[0;32m   5875\u001b[0m     keyarr, indexer, new_indexer \u001b[38;5;241m=\u001b[39m \u001b[38;5;28mself\u001b[39m\u001b[38;5;241m.\u001b[39m_reindex_non_unique(keyarr)\n\u001b[1;32m-> 5877\u001b[0m \u001b[38;5;28mself\u001b[39m\u001b[38;5;241m.\u001b[39m_raise_if_missing(keyarr, indexer, axis_name)\n\u001b[0;32m   5879\u001b[0m keyarr \u001b[38;5;241m=\u001b[39m \u001b[38;5;28mself\u001b[39m\u001b[38;5;241m.\u001b[39mtake(indexer)\n\u001b[0;32m   5880\u001b[0m \u001b[38;5;28;01mif\u001b[39;00m \u001b[38;5;28misinstance\u001b[39m(key, Index):\n\u001b[0;32m   5881\u001b[0m     \u001b[38;5;66;03m# GH 42790 - Preserve name from an Index\u001b[39;00m\n",
      "File \u001b[1;32m~\\anaconda3\\Lib\\site-packages\\pandas\\core\\indexes\\base.py:5941\u001b[0m, in \u001b[0;36mIndex._raise_if_missing\u001b[1;34m(self, key, indexer, axis_name)\u001b[0m\n\u001b[0;32m   5938\u001b[0m     \u001b[38;5;28;01mraise\u001b[39;00m \u001b[38;5;167;01mKeyError\u001b[39;00m(\u001b[38;5;124mf\u001b[39m\u001b[38;5;124m\"\u001b[39m\u001b[38;5;124mNone of [\u001b[39m\u001b[38;5;132;01m{\u001b[39;00mkey\u001b[38;5;132;01m}\u001b[39;00m\u001b[38;5;124m] are in the [\u001b[39m\u001b[38;5;132;01m{\u001b[39;00maxis_name\u001b[38;5;132;01m}\u001b[39;00m\u001b[38;5;124m]\u001b[39m\u001b[38;5;124m\"\u001b[39m)\n\u001b[0;32m   5940\u001b[0m not_found \u001b[38;5;241m=\u001b[39m \u001b[38;5;28mlist\u001b[39m(ensure_index(key)[missing_mask\u001b[38;5;241m.\u001b[39mnonzero()[\u001b[38;5;241m0\u001b[39m]]\u001b[38;5;241m.\u001b[39munique())\n\u001b[1;32m-> 5941\u001b[0m \u001b[38;5;28;01mraise\u001b[39;00m \u001b[38;5;167;01mKeyError\u001b[39;00m(\u001b[38;5;124mf\u001b[39m\u001b[38;5;124m\"\u001b[39m\u001b[38;5;132;01m{\u001b[39;00mnot_found\u001b[38;5;132;01m}\u001b[39;00m\u001b[38;5;124m not in index\u001b[39m\u001b[38;5;124m\"\u001b[39m)\n",
      "\u001b[1;31mKeyError\u001b[0m: \"['Val_mean_absolute_percentage_error'] not in index\""
     ]
    },
    {
     "data": {
      "image/png": "[encoded data removed]",
      "text/plain": [
       "<Figure size 640x480 with 1 Axes>"
      ]
     },
     "metadata": {},
     "output_type": "display_data"
    }
   ],
   "source": [
    "dfHistory = pd.DataFrame(history.history)\n",
    "dfHistory[['loss','val_loss','root_mean_squared_error',\n",
    "           'val_root_mean_squared_error']].plot(grid=True)\n",
    "dfHistory[['mean_absolute_percentage_error',\n",
    "          'Val_mean_absolute_percentage_error']].plot(grid=True)"
   ]
  },
  {
   "cell_type": "markdown",
   "id": "8cbd24cf",
   "metadata": {},
   "source": [
    "#### Evaluar el modelo en el conjunto de entrenamiento"
   ]
  },
  {
   "cell_type": "code",
   "execution_count": 17,
   "id": "f36bb716",
   "metadata": {},
   "outputs": [
    {
     "name": "stdout",
     "output_type": "stream",
     "text": [
      "\u001b[1m363/363\u001b[0m \u001b[32m━━━━━━━━━━━━━━━━━━━━\u001b[0m\u001b[37m\u001b[0m \u001b[1m0s\u001b[0m 566us/step - loss: 0.3967 - mean_absolute_percentage_error: 25.6231 - root_mean_squared_error: 0.6293\n",
      "Evaluar el modelo ene el conjunto de entrenamiento\n",
      "loss train: 0.3893496096134186\n",
      "root_mean_squared_error train: 0.623978853225708\n",
      "root_mean_squared_error train: 25.951467514038086\n"
     ]
    }
   ],
   "source": [
    "loss, RMSE, MAPE = model.evaluate(X_train, y_train)\n",
    "print('Evaluar el modelo ene el conjunto de entrenamiento')\n",
    "print('loss train:', loss)\n",
    "print('root_mean_squared_error train:', RMSE)\n",
    "print('root_mean_squared_error train:', MAPE)"
   ]
  },
  {
   "cell_type": "markdown",
   "id": "499a3320",
   "metadata": {},
   "source": [
    "#### Evaluar el modelo en el conjunto de validación"
   ]
  },
  {
   "cell_type": "code",
   "execution_count": 18,
   "id": "1a704c7e",
   "metadata": {},
   "outputs": [
    {
     "name": "stdout",
     "output_type": "stream",
     "text": [
      "\u001b[1m363/363\u001b[0m \u001b[32m━━━━━━━━━━━━━━━━━━━━\u001b[0m\u001b[37m\u001b[0m \u001b[1m0s\u001b[0m 694us/step - loss: 0.3967 - mean_absolute_percentage_error: 25.6231 - root_mean_squared_error: 0.6293\n",
      "Evaluar el modelo en el conjunto de validación\n",
      "loss valid: 0.3893496096134186\n",
      "root_mean_squared_error valid: 0.623978853225708\n",
      "mean_absolute_percentage_error valid: 25.951467514038086\n"
     ]
    }
   ],
   "source": [
    "loss, RMSE, MAPE = model.evaluate(X_train, y_train)\n",
    "print('Evaluar el modelo en el conjunto de validación')\n",
    "print('loss valid:', loss)\n",
    "print('root_mean_squared_error valid:', RMSE)\n",
    "print('mean_absolute_percentage_error valid:', MAPE)"
   ]
  },
  {
   "cell_type": "markdown",
   "id": "b796d0fa",
   "metadata": {},
   "source": [
    "#### Evaluar el modelo en el conjunto de prueba"
   ]
  },
  {
   "cell_type": "code",
   "execution_count": 19,
   "id": "1541e4d3",
   "metadata": {},
   "outputs": [
    {
     "name": "stdout",
     "output_type": "stream",
     "text": [
      "\u001b[1m162/162\u001b[0m \u001b[32m━━━━━━━━━━━━━━━━━━━━\u001b[0m\u001b[37m\u001b[0m \u001b[1m0s\u001b[0m 671us/step - loss: 0.3820 - mean_absolute_percentage_error: 25.0878 - root_mean_squared_error: 0.6171\n",
      "Evaluar el modelo en el conjunto de prueba\n",
      "loss test: 0.3901370167732239\n",
      "root_mean_squared_error test: 0.623978853225708\n"
     ]
    },
    {
     "ename": "NameError",
     "evalue": "name 'pritn' is not defined",
     "output_type": "error",
     "traceback": [
      "\u001b[1;31m---------------------------------------------------------------------------\u001b[0m",
      "\u001b[1;31mNameError\u001b[0m                                 Traceback (most recent call last)",
      "Cell \u001b[1;32mIn[19], line 5\u001b[0m\n\u001b[0;32m      3\u001b[0m \u001b[38;5;28mprint\u001b[39m(\u001b[38;5;124m'\u001b[39m\u001b[38;5;124mloss test:\u001b[39m\u001b[38;5;124m'\u001b[39m, loss)\n\u001b[0;32m      4\u001b[0m \u001b[38;5;28mprint\u001b[39m(\u001b[38;5;124m'\u001b[39m\u001b[38;5;124mroot_mean_squared_error test:\u001b[39m\u001b[38;5;124m'\u001b[39m,RMSE)\n\u001b[1;32m----> 5\u001b[0m pritn(\u001b[38;5;124m'\u001b[39m\u001b[38;5;124mmean_absolute_percentage_error test:\u001b[39m\u001b[38;5;124m'\u001b[39m, MAPE)\n",
      "\u001b[1;31mNameError\u001b[0m: name 'pritn' is not defined"
     ]
    }
   ],
   "source": [
    "loss, RMSEA, MAPE = model.evaluate(X_test, y_test)\n",
    "print('Evaluar el modelo en el conjunto de prueba')\n",
    "print('loss test:', loss)\n",
    "print('root_mean_squared_error test:',RMSE)\n",
    "pritn('mean_absolute_percentage_error test:', MAPE)"
   ]
  },
  {
   "cell_type": "markdown",
   "id": "7232e910",
   "metadata": {},
   "source": [
    "#### Preguntas de Comprensión"
   ]
  },
  {
   "cell_type": "markdown",
   "id": "c8c9cc70",
   "metadata": {},
   "source": [
    "1. Qué conjunto de datos se utiliza en este código y qué problema de aprendizaje automático se aborda?"
   ]
  },
  {
   "cell_type": "markdown",
   "id": "d61e6a90",
   "metadata": {},
   "source": [
    "2. ¿Qué hace la función  train_test_split() de scikit-learn y por qué se utiliza en este código?"
   ]
  },
  {
   "cell_type": "markdown",
   "id": "f05cab04",
   "metadata": {},
   "source": [
    "3. ¿Por qué es importante estandarizar los datos antes de entrenar un modelo de redes neuronales?"
   ]
  },
  {
   "cell_type": "markdown",
   "id": "21b0cf81",
   "metadata": {},
   "source": [
    "4. ¿Qué arquitectura de red neuronal se utiliza en este código y cuántas capas tiene?"
   ]
  },
  {
   "cell_type": "markdown",
   "id": "b12f67af",
   "metadata": {},
   "source": [
    "5. ¿Qué función de activación se utiliza en la capa oculta de la red neuronal y por qué se elige esa función?"
   ]
  },
  {
   "cell_type": "markdown",
   "id": "cac65c0a",
   "metadata": {},
   "source": [
    "6. ¿Qué función de pérdida se utiliza para compilar el modelo y qué métricas se utilizan para evaluar su rendimiento?"
   ]
  },
  {
   "cell_type": "markdown",
   "id": "f003c615",
   "metadata": {},
   "source": [
    "7. ¿Cuántas épocas se utilizan para entrenar el modelo y por qué se elige ese número?"
   ]
  },
  {
   "cell_type": "markdown",
   "id": "26bb54aa",
   "metadata": {},
   "source": [
    "### Ejercicios de Exploración"
   ]
  },
  {
   "cell_type": "markdown",
   "id": "84ef2b00",
   "metadata": {},
   "source": [
    "1. Modica el número de neuronas en la capa oculta de la red neuronal y observa cómo afecta el rendimiento del modelo."
   ]
  },
  {
   "cell_type": "markdown",
   "id": "18e135a5",
   "metadata": {},
   "source": [
    "2. Experimenta con diferentes optimizadores, como \"adam\" o \"rmsprop\", y observa cómo afectan el rendimiento del modelo."
   ]
  },
  {
   "cell_type": "markdown",
   "id": "a202c22c",
   "metadata": {},
   "source": [
    "3. Agrega una capa de regularización, como Dropout, a la red neuronal y observa cómo afecta el rendimiento del modelo."
   ]
  },
  {
   "cell_type": "markdown",
   "id": "8dc40325",
   "metadata": {},
   "source": [
    "4. Cambia la función de pérdida a \"mean_absolute_error\" y observa cómo afecta el rendimiento del modelo."
   ]
  },
  {
   "cell_type": "markdown",
   "id": "2d495911",
   "metadata": {},
   "source": [
    "5. Entrena el modelo con un número diferente de épocas y observa cómo afecta el rendimiento del modelo."
   ]
  },
  {
   "cell_type": "markdown",
   "id": "a9a594dc",
   "metadata": {},
   "source": [
    "6. Elimina la estandarización de los datos y observa cómo afecta el rendimiento del modelo."
   ]
  },
  {
   "cell_type": "markdown",
   "id": "66f86df7",
   "metadata": {},
   "source": [
    "7. Experimenta con diferentes arquitecturas de red neuronal, como agregar capas adicionales o cambiar el número de neuronas en cada capa, y observa cómo afectan el rendimiento del modelo."
   ]
  },
  {
   "cell_type": "markdown",
   "id": "8848d119",
   "metadata": {},
   "source": [
    "8. Intenta resolver el problema utilizando otro conjunto de datos y compara los resultados con los obtenidos en el conjunto de datos de viviendas de California."
   ]
  },
  {
   "cell_type": "markdown",
   "id": "f9133bfe",
   "metadata": {},
   "source": []
  }
 ],
 "metadata": {
  "kernelspec": {
   "display_name": "Python 3 (ipykernel)",
   "language": "python",
   "name": "python3"
  },
  "language_info": {
   "codemirror_mode": {
    "name": "ipython",
    "version": 3
   },
   "file_extension": ".py",
   "mimetype": "text/x-python",
   "name": "python",
   "nbconvert_exporter": "python",
   "pygments_lexer": "ipython3",
   "version": "3.11.5"
  }
 },
 "nbformat": 4,
 "nbformat_minor": 5
}
