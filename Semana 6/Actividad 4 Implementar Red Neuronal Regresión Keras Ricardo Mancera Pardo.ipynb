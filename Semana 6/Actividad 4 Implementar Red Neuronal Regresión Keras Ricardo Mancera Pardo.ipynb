{
 "cells": [
  {
   "cell_type": "code",
   "execution_count": null,
   "id": "a64fa819",
   "metadata": {},
   "outputs": [],
   "source": [
    "import keras\n",
    "from sklearn.datasets import fetch_california_housing\n",
    "from sklearn.model_selection import train_test_split\n",
    "from sklearn.preprocessingre import StandarScaler\n",
    "\n",
    "import pandas as pd\n",
    "import matplotplib.pyplot as plt"
   ]
  },
  {
   "cell_type": "markdown",
   "id": "5953069c",
   "metadata": {},
   "source": [
    "##### Cargue de Datos"
   ]
  },
  {
   "cell_type": "code",
   "execution_count": null,
   "id": "ffcd800d",
   "metadata": {},
   "outputs": [],
   "source": [
    "housing = fetch_california_housing()"
   ]
  },
  {
   "cell_type": "markdown",
   "id": "b21d772f",
   "metadata": {},
   "source": [
    "#### Crear Conjunto de dato de entrenamiento, validacion y prueba"
   ]
  },
  {
   "cell_type": "code",
   "execution_count": null,
   "id": "4d9626ae",
   "metadata": {},
   "outputs": [],
   "source": [
    "X_train_full, X_test, y_train_full, y_test = train_test_splir(housing.data,\n",
    "                                                             housing.target)\n",
    "\n",
    "X_train, X_valid, y_train, y_valid = train_test_split(X_train_full, \n",
    "                                                      y_train_full)\n",
    "\n",
    "print('X_train:',X_train.shape)\n",
    "print('X_test:',X_test.shape)\n",
    "print('X_valid:',X_valid.shape)\n",
    "print('y_train:',y_train.shape)\n",
    "print('y_test:',y_test.shape)\n",
    "print('y_valid:',y_valid.shape)"
   ]
  },
  {
   "cell_type": "markdown",
   "id": "8c263716",
   "metadata": {},
   "source": [
    "#### Escalar Datos"
   ]
  },
  {
   "cell_type": "code",
   "execution_count": null,
   "id": "be31c74d",
   "metadata": {},
   "outputs": [],
   "source": [
    "scaler = StandardScaler()\n",
    "X_train = scaler.fit_transform(X_train)\n",
    "X_test = scaler.transform(X_test)\n",
    "X_valid = scaler.transform(X_valid)"
   ]
  },
  {
   "cell_type": "markdown",
   "id": "fd1b0037",
   "metadata": {},
   "source": [
    "#### Modelo de red neuronal"
   ]
  },
  {
   "cell_type": "code",
   "execution_count": null,
   "id": "1bbcf579",
   "metadata": {},
   "outputs": [],
   "source": [
    "model = keras.models.Sequential([keras.layers.Dense(30, activation='relu',\n",
    "                                                   input_shape=X_train.shape[1:]),\n",
    "                                keras.layers.Dense(1)])"
   ]
  },
  {
   "cell_type": "markdown",
   "id": "34e7547c",
   "metadata": {},
   "source": [
    "#### Compilar Modelo"
   ]
  },
  {
   "cell_type": "code",
   "execution_count": null,
   "id": "541b5a8f",
   "metadata": {},
   "outputs": [],
   "source": [
    "model.compile(loss='mean_suqared_error',optimizer='sgd',\n",
    "             metrics =[keras.metrics.RootMeanSquaredError(),\n",
    "                      'mean_absolute_percentage_error'])"
   ]
  },
  {
   "cell_type": "markdown",
   "id": "baf3fa05",
   "metadata": {},
   "source": [
    "#### Enternar Modelo"
   ]
  },
  {
   "cell_type": "code",
   "execution_count": null,
   "id": "64297431",
   "metadata": {},
   "outputs": [],
   "source": [
    "history = model.fit(X_train, y_train,\n",
    "                   epochs=10,\n",
    "                   validation_data = (X_valid, y_valid))"
   ]
  },
  {
   "cell_type": "markdown",
   "id": "ed5e807b",
   "metadata": {},
   "source": [
    "#### Graficar Historial Entrenamiento"
   ]
  },
  {
   "cell_type": "code",
   "execution_count": null,
   "id": "3c3fb7a7",
   "metadata": {},
   "outputs": [],
   "source": [
    "dfHistory = pd.DataFrame(history.history)\n",
    "dfHistory[['loss','val_loss','root_mean_squared_error',\n",
    "           'val_root_mean_squared_error']].plot(grid=True)\n",
    "dfHistory[['mean_absolute_percentage_error',\n",
    "          'Val_mean_absolute_percentage_error']].plot(grid=True)"
   ]
  },
  {
   "cell_type": "markdown",
   "id": "8cbd24cf",
   "metadata": {},
   "source": [
    "#### Evaluar el modelo en el conjunto de entrenamiento"
   ]
  },
  {
   "cell_type": "code",
   "execution_count": null,
   "id": "f36bb716",
   "metadata": {},
   "outputs": [],
   "source": [
    "loss, RMSE, MAPE = model.evaluate(X_train, y_train)\n",
    "print('Evaluar el modelo ene el conjunto de entrenamiento')\n",
    "print('loss train:', loss)\n",
    "print('root_mean_squared_error train:', RMSE)\n",
    "print('root_mean_squared_error train:', MAPE)"
   ]
  },
  {
   "cell_type": "markdown",
   "id": "499a3320",
   "metadata": {},
   "source": [
    "#### Evaluar el modelo en el conjunto de validación"
   ]
  },
  {
   "cell_type": "code",
   "execution_count": null,
   "id": "1a704c7e",
   "metadata": {},
   "outputs": [],
   "source": [
    "loss, RMSE, MAPE = model.evaluate(X_train, y_train)\n",
    "print('Evaluar el modelo en el conjunto de validación')\n",
    "print('loss valid:', loss)\n",
    "print('root_mean_squared_error valid:', RMSE)\n",
    "print('mean_absolute_percentage_error valid:', MAPE)"
   ]
  },
  {
   "cell_type": "markdown",
   "id": "b796d0fa",
   "metadata": {},
   "source": [
    "#### Evaluar el modelo en el conjunto de prueba"
   ]
  },
  {
   "cell_type": "code",
   "execution_count": null,
   "id": "1541e4d3",
   "metadata": {},
   "outputs": [],
   "source": [
    "loss, RMSEA, MAPE = model.evaluate(X_test, y_test)\n",
    "print('Evaluar el modelo en el conjunto de prueba')\n",
    "print('loss test:', loss)\n",
    "print('root_mean_squared_error test:',RMSE)\n",
    "pritn('mean_absolute_percentage_error test:', MAPE)"
   ]
  },
  {
   "cell_type": "markdown",
   "id": "7232e910",
   "metadata": {},
   "source": [
    "#### Preguntas de Comprensión"
   ]
  },
  {
   "cell_type": "markdown",
   "id": "c8c9cc70",
   "metadata": {},
   "source": [
    "1. Qué conjunto de datos se utiliza en este código y qué problema de aprendizaje automático se aborda?"
   ]
  },
  {
   "cell_type": "markdown",
   "id": "d61e6a90",
   "metadata": {},
   "source": [
    "2. ¿Qué hace la función  train_test_split() de scikit-learn y por qué se utiliza en este código?"
   ]
  },
  {
   "cell_type": "markdown",
   "id": "f05cab04",
   "metadata": {},
   "source": [
    "3. ¿Por qué es importante estandarizar los datos antes de entrenar un modelo de redes neuronales?"
   ]
  },
  {
   "cell_type": "markdown",
   "id": "21b0cf81",
   "metadata": {},
   "source": [
    "4. ¿Qué arquitectura de red neuronal se utiliza en este código y cuántas capas tiene?"
   ]
  },
  {
   "cell_type": "markdown",
   "id": "b12f67af",
   "metadata": {},
   "source": [
    "5. ¿Qué función de activación se utiliza en la capa oculta de la red neuronal y por qué se elige esa función?"
   ]
  },
  {
   "cell_type": "markdown",
   "id": "cac65c0a",
   "metadata": {},
   "source": [
    "6. ¿Qué función de pérdida se utiliza para compilar el modelo y qué métricas se utilizan para evaluar su rendimiento?"
   ]
  },
  {
   "cell_type": "markdown",
   "id": "f003c615",
   "metadata": {},
   "source": [
    "7. ¿Cuántas épocas se utilizan para entrenar el modelo y por qué se elige ese número?"
   ]
  },
  {
   "cell_type": "markdown",
   "id": "26bb54aa",
   "metadata": {},
   "source": [
    "### Ejercicios de Exploración"
   ]
  },
  {
   "cell_type": "markdown",
   "id": "84ef2b00",
   "metadata": {},
   "source": [
    "1. Modica el número de neuronas en la capa oculta de la red neuronal y observa cómo afecta el rendimiento del modelo."
   ]
  },
  {
   "cell_type": "markdown",
   "id": "18e135a5",
   "metadata": {},
   "source": [
    "2. Experimenta con diferentes optimizadores, como \"adam\" o \"rmsprop\", y observa cómo afectan el rendimiento del modelo."
   ]
  },
  {
   "cell_type": "markdown",
   "id": "a202c22c",
   "metadata": {},
   "source": [
    "3. Agrega una capa de regularización, como Dropout, a la red neuronal y observa cómo afecta el rendimiento del modelo."
   ]
  },
  {
   "cell_type": "markdown",
   "id": "8dc40325",
   "metadata": {},
   "source": [
    "4. Cambia la función de pérdida a \"mean_absolute_error\" y observa cómo afecta el rendimiento del modelo."
   ]
  },
  {
   "cell_type": "markdown",
   "id": "2d495911",
   "metadata": {},
   "source": [
    "5. Entrena el modelo con un número diferente de épocas y observa cómo afecta el rendimiento del modelo."
   ]
  },
  {
   "cell_type": "markdown",
   "id": "a9a594dc",
   "metadata": {},
   "source": [
    "6. Elimina la estandarización de los datos y observa cómo afecta el rendimiento del modelo."
   ]
  },
  {
   "cell_type": "markdown",
   "id": "66f86df7",
   "metadata": {},
   "source": [
    "7. Experimenta con diferentes arquitecturas de red neuronal, como agregar capas adicionales o cambiar el número de neuronas en cada capa, y observa cómo afectan el rendimiento del modelo."
   ]
  },
  {
   "cell_type": "markdown",
   "id": "8848d119",
   "metadata": {},
   "source": [
    "8. Intenta resolver el problema utilizando otro conjunto de datos y compara los resultados con los obtenidos en el conjunto de datos de viviendas de California."
   ]
  },
  {
   "cell_type": "markdown",
   "id": "f9133bfe",
   "metadata": {},
   "source": []
  }
 ],
 "metadata": {
  "kernelspec": {
   "display_name": "Python 3 (ipykernel)",
   "language": "python",
   "name": "python3"
  },
  "language_info": {
   "codemirror_mode": {
    "name": "ipython",
    "version": 3
   },
   "file_extension": ".py",
   "mimetype": "text/x-python",
   "name": "python",
   "nbconvert_exporter": "python",
   "pygments_lexer": "ipython3",
   "version": "3.11.5"
  }
 },
 "nbformat": 4,
 "nbformat_minor": 5
}
