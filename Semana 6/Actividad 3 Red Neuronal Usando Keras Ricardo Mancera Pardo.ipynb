{
 "cells": [
  {
   "cell_type": "markdown",
   "id": "beaf63df",
   "metadata": {},
   "source": [
    "Importar Bibliotecas"
   ]
  },
  {
   "cell_type": "code",
   "execution_count": 1,
   "id": "a135db00",
   "metadata": {},
   "outputs": [],
   "source": [
    "import keras\n",
    "from sklearn.datasets import make_classification\n",
    "from sklearn.model_selection import train_test_split"
   ]
  },
  {
   "cell_type": "markdown",
   "id": "944ef043",
   "metadata": {},
   "source": [
    "Generacion de datos de clasificacion sinteticos"
   ]
  },
  {
   "cell_type": "code",
   "execution_count": 2,
   "id": "5a57cbe7",
   "metadata": {},
   "outputs": [],
   "source": [
    "X, y = make_classification(n_samples=100, n_features=5, n_classes=2)"
   ]
  },
  {
   "cell_type": "markdown",
   "id": "ee101d37",
   "metadata": {},
   "source": [
    "Division de datos"
   ]
  },
  {
   "cell_type": "code",
   "execution_count": 4,
   "id": "ec789fe9",
   "metadata": {},
   "outputs": [],
   "source": [
    "X_train, X_test, y_train, y_test = train_test_split(X, y, test_size=0.2)"
   ]
  },
  {
   "cell_type": "markdown",
   "id": "d9ab1f33",
   "metadata": {},
   "source": [
    "Codificacion one-hot de las etiquetas"
   ]
  },
  {
   "cell_type": "code",
   "execution_count": 5,
   "id": "2d5a059c",
   "metadata": {},
   "outputs": [],
   "source": [
    "y_train_categorical = keras.utils.to_categorical(y_train)\n",
    "y_test_categorical = keras.utils.to_categorical(y_test)"
   ]
  },
  {
   "cell_type": "markdown",
   "id": "f79ad0b4",
   "metadata": {},
   "source": [
    "Creacion del Modelo"
   ]
  },
  {
   "cell_type": "code",
   "execution_count": 6,
   "id": "8670d99e",
   "metadata": {},
   "outputs": [],
   "source": [
    "model = keras.models.Sequential()"
   ]
  },
  {
   "cell_type": "markdown",
   "id": "3f1701e6",
   "metadata": {},
   "source": [
    "Añadir capas al modelo"
   ]
  },
  {
   "cell_type": "code",
   "execution_count": 7,
   "id": "e9058a78",
   "metadata": {},
   "outputs": [
    {
     "name": "stderr",
     "output_type": "stream",
     "text": [
      "C:\\Users\\ricar\\anaconda3\\Lib\\site-packages\\keras\\src\\layers\\core\\dense.py:87: UserWarning: Do not pass an `input_shape`/`input_dim` argument to a layer. When using Sequential models, prefer using an `Input(shape)` object as the first layer in the model instead.\n",
      "  super().__init__(activity_regularizer=activity_regularizer, **kwargs)\n"
     ]
    }
   ],
   "source": [
    "model.add(keras.layers.Dense(10, \n",
    "input_shape=(X_train.shape[1],),activation='relu'))\n",
    "\n",
    "model.add(keras.layers.Dense(2, activation='softmax'))"
   ]
  },
  {
   "cell_type": "markdown",
   "id": "8a761ac0",
   "metadata": {},
   "source": [
    "Compilacion del modelo"
   ]
  },
  {
   "cell_type": "code",
   "execution_count": 9,
   "id": "407d7e61",
   "metadata": {},
   "outputs": [],
   "source": [
    "model.compile(optimizer='adam',\n",
    "             loss='categorical_crossentropy',metrics=['accuracy'])"
   ]
  },
  {
   "cell_type": "markdown",
   "id": "8d4ac80d",
   "metadata": {},
   "source": [
    "Entrenamiento del modelo"
   ]
  },
  {
   "cell_type": "code",
   "execution_count": 10,
   "id": "a40cb4be",
   "metadata": {},
   "outputs": [
    {
     "ename": "AttributeError",
     "evalue": "'Sequential' object has no attribute 'fir'",
     "output_type": "error",
     "traceback": [
      "\u001b[1;31m---------------------------------------------------------------------------\u001b[0m",
      "\u001b[1;31mAttributeError\u001b[0m                            Traceback (most recent call last)",
      "Cell \u001b[1;32mIn[10], line 1\u001b[0m\n\u001b[1;32m----> 1\u001b[0m model\u001b[38;5;241m.\u001b[39mfir(X_train, y_train_categorical, epochs\u001b[38;5;241m=\u001b[39m\u001b[38;5;241m10\u001b[39m,\n\u001b[0;32m      2\u001b[0m batch_size\u001b[38;5;241m=\u001b[39m\u001b[38;5;241m32\u001b[39m, validation_data\u001b[38;5;241m=\u001b[39m(X_test, y_test_categorical))\n",
      "\u001b[1;31mAttributeError\u001b[0m: 'Sequential' object has no attribute 'fir'"
     ]
    }
   ],
   "source": [
    "model.fir(X_train, y_train_categorical, epochs=10,\n",
    "batch_size=32, validation_data=(X_test, y_test_categorical))"
   ]
  },
  {
   "cell_type": "code",
   "execution_count": null,
   "id": "4ecbc183",
   "metadata": {},
   "outputs": [],
   "source": [
    "```python\n",
    "import numpy as np\n",
    "from tensorflow.keras.models import Sequential\n",
    "from tensorflow.keras.layers import Dense\n",
    "\n",
    "# Define the model\n",
    "model = Sequential()\n",
    "model.add(Dense(32, activation='relu', input_dim=100))\n",
    "model.add(Dense(10, activation='softmax'))\n",
    "\n",
    "# Compile the model\n",
    "model.compile(optimizer='adam', loss='categorical_crossentropy',\n",
    " metrics=['accuracy'])\n",
    "\n",
    "# Assume 'data' is your input for prediction\n",
    "data = np.random.random((500, 100))\n",
    "\n",
    "# Use the 'predict' method to get the class probabilities\n",
    "probabilities = model.predict(data)\n",
    "\n",
    "# Use numpy's 'argmax' function to get the class predictions\n",
    "class_predictions = np.argmax(probabilities, axis=-1)"
   ]
  },
  {
   "cell_type": "markdown",
   "id": "84a1aa37",
   "metadata": {},
   "source": [
    "Evaluacion del modelo"
   ]
  },
  {
   "cell_type": "code",
   "execution_count": 11,
   "id": "2452c7f9",
   "metadata": {},
   "outputs": [
    {
     "name": "stdout",
     "output_type": "stream",
     "text": [
      "\u001b[1m1/1\u001b[0m \u001b[32m━━━━━━━━━━━━━━━━━━━━\u001b[0m\u001b[37m\u001b[0m \u001b[1m0s\u001b[0m 188ms/step - accuracy: 0.6000 - loss: 0.6479\n"
     ]
    }
   ],
   "source": [
    "loss, accuracy = model.evaluate(X_test, y_test_categorical)"
   ]
  },
  {
   "cell_type": "markdown",
   "id": "53b3c99a",
   "metadata": {},
   "source": [
    "Impresion del modelo"
   ]
  },
  {
   "cell_type": "code",
   "execution_count": 12,
   "id": "73916e70",
   "metadata": {},
   "outputs": [
    {
     "name": "stdout",
     "output_type": "stream",
     "text": [
      "Perdidad en el conjunto de prueba: 0.6479171514511108\n",
      "Precision en el conjunto de prueba; 0.6000000238418579\n"
     ]
    }
   ],
   "source": [
    "print('Perdidad en el conjunto de prueba:', loss)\n",
    "print('Precision en el conjunto de prueba;', accuracy)"
   ]
  },
  {
   "cell_type": "markdown",
   "id": "82f954aa",
   "metadata": {},
   "source": [
    "Dentro de los cambio se puede plantear:\n",
    "- Incrementa el número de épocas\n",
    "- Cambia el tamaño del batch\n",
    "- Cambia la funcion de activacion\n",
    "- Añadir más neuronas a las capas existentes.\n",
    "- Añadir más capas"
   ]
  }
 ],
 "metadata": {
  "kernelspec": {
   "display_name": "Python 3 (ipykernel)",
   "language": "python",
   "name": "python3"
  },
  "language_info": {
   "codemirror_mode": {
    "name": "ipython",
    "version": 3
   },
   "file_extension": ".py",
   "mimetype": "text/x-python",
   "name": "python",
   "nbconvert_exporter": "python",
   "pygments_lexer": "ipython3",
   "version": "3.11.5"
  }
 },
 "nbformat": 4,
 "nbformat_minor": 5
}
