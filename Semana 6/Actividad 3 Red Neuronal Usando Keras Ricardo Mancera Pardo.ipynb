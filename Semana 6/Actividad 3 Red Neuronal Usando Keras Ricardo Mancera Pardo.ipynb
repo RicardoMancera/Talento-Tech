{
 "cells": [
  {
   "cell_type": "markdown",
   "id": "beaf63df",
   "metadata": {},
   "source": [
    "Importar Bibliotecas"
   ]
  },
  {
   "cell_type": "code",
   "execution_count": null,
   "id": "a135db00",
   "metadata": {},
   "outputs": [],
   "source": [
    "import keras\n",
    "from sklearn.datasets import make_classification\n",
    "from sklearn.model_selection import train_test_split"
   ]
  },
  {
   "cell_type": "markdown",
   "id": "944ef043",
   "metadata": {},
   "source": [
    "Generacion de datos de clasificacion sinteticos"
   ]
  },
  {
   "cell_type": "code",
   "execution_count": null,
   "id": "5a57cbe7",
   "metadata": {},
   "outputs": [],
   "source": [
    "X, y = make_classification(n_samples=100, n_features=5, n_classes=2)"
   ]
  },
  {
   "cell_type": "markdown",
   "id": "ee101d37",
   "metadata": {},
   "source": [
    "Division de datos"
   ]
  },
  {
   "cell_type": "code",
   "execution_count": null,
   "id": "ec789fe9",
   "metadata": {},
   "outputs": [],
   "source": [
    "X_train, X_test, y_train, y_test = \n",
    "trin_test_split(X, y, test_size=0.2)"
   ]
  },
  {
   "cell_type": "markdown",
   "id": "d9ab1f33",
   "metadata": {},
   "source": [
    "Codificacion one-hot de las etiquetas"
   ]
  },
  {
   "cell_type": "code",
   "execution_count": null,
   "id": "2d5a059c",
   "metadata": {},
   "outputs": [],
   "source": [
    "y_train_categorical = keras.utils.to_categorical(y_train)\n",
    "y_test_categorical = keras.utils.to_categorical(y_test)"
   ]
  },
  {
   "cell_type": "markdown",
   "id": "f79ad0b4",
   "metadata": {},
   "source": [
    "Creacion del Modelo"
   ]
  },
  {
   "cell_type": "code",
   "execution_count": null,
   "id": "8670d99e",
   "metadata": {},
   "outputs": [],
   "source": [
    "model = keras.models.Sequential()"
   ]
  },
  {
   "cell_type": "markdown",
   "id": "3f1701e6",
   "metadata": {},
   "source": [
    "Añadir capas al modelo"
   ]
  },
  {
   "cell_type": "code",
   "execution_count": null,
   "id": "e9058a78",
   "metadata": {},
   "outputs": [],
   "source": [
    "model.add(keras.layers.Dense(10, \n",
    "input_shape=(X_train.shape[1],),activation='relu'))\n",
    "\n",
    "model.add(keras.layers.Dense(2, activation='softmax'))"
   ]
  },
  {
   "cell_type": "markdown",
   "id": "8a761ac0",
   "metadata": {},
   "source": [
    "Compilacion del modelo"
   ]
  },
  {
   "cell_type": "code",
   "execution_count": null,
   "id": "407d7e61",
   "metadata": {},
   "outputs": [],
   "source": [
    "model.compile(optimizer='adam'\n",
    "             loss='categorical_crossentropy',metrics=['accuracy'])"
   ]
  },
  {
   "cell_type": "markdown",
   "id": "8d4ac80d",
   "metadata": {},
   "source": [
    "Entrenamiento del modelo"
   ]
  },
  {
   "cell_type": "code",
   "execution_count": null,
   "id": "a40cb4be",
   "metadata": {},
   "outputs": [],
   "source": [
    "model.fir(X_train, y_train_categorical, epochs=10,\n",
    "batch_size=32, validation_data=(X_test, y_test_categorical))"
   ]
  },
  {
   "cell_type": "markdown",
   "id": "84a1aa37",
   "metadata": {},
   "source": [
    "Evaluacion del modelo"
   ]
  },
  {
   "cell_type": "code",
   "execution_count": null,
   "id": "2452c7f9",
   "metadata": {},
   "outputs": [],
   "source": [
    "loss, accuracy = model.evaluate(X_test, y_test_categorical)"
   ]
  },
  {
   "cell_type": "markdown",
   "id": "53b3c99a",
   "metadata": {},
   "source": [
    "Impresion del modelo"
   ]
  },
  {
   "cell_type": "code",
   "execution_count": null,
   "id": "73916e70",
   "metadata": {},
   "outputs": [],
   "source": [
    "print('Perdidad en el conjunto de prueba:', loss)\n",
    "print('Precision en el conjunto de prueba;', accuracy)"
   ]
  },
  {
   "cell_type": "markdown",
   "id": "82f954aa",
   "metadata": {},
   "source": [
    "Dentro de los cambio se puede plantear:\n",
    "- Incrementa el número de épocas\n",
    "- Cambia el tamaño del batch\n",
    "- Cambia la funcion de activacion\n",
    "- Añadir más neuronas a las capas existentes.\n",
    "- Añadir más capas"
   ]
  }
 ],
 "metadata": {
  "kernelspec": {
   "display_name": "Python 3 (ipykernel)",
   "language": "python",
   "name": "python3"
  },
  "language_info": {
   "codemirror_mode": {
    "name": "ipython",
    "version": 3
   },
   "file_extension": ".py",
   "mimetype": "text/x-python",
   "name": "python",
   "nbconvert_exporter": "python",
   "pygments_lexer": "ipython3",
   "version": "3.11.5"
  }
 },
 "nbformat": 4,
 "nbformat_minor": 5
}
