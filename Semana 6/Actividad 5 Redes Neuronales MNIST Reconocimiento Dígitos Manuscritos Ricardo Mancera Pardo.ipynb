{
 "cells": [
  {
   "cell_type": "markdown",
   "id": "52cd7581",
   "metadata": {},
   "source": [
    "conjunto de datos MNIST (Modified National Institute of Standards and Technology) es un conjunto de imágenes que contiene dígitos escritos a mano, ampliamente utilizado como punto de referencia en el campo de la visión por computadora y el aprendizaje automático. Fue creado a partir de dos conjuntos de datos más grandes recopilados por el Instituto Nacional de Estándares y Tecnología de EE. UU."
   ]
  },
  {
   "cell_type": "markdown",
   "id": "915dedea",
   "metadata": {},
   "source": [
    "#### Cargar Conjunto de Datos MNIST"
   ]
  },
  {
   "cell_type": "code",
   "execution_count": null,
   "id": "dda91ffd",
   "metadata": {},
   "outputs": [],
   "source": [
    "import keras\n",
    "mnist = keras.datasets.mnist\n",
    "(training_images, training_labels), (test_images,test_labels)=mnist.load_data()"
   ]
  },
  {
   "cell_type": "markdown",
   "id": "c207f12b",
   "metadata": {},
   "source": [
    "#### Visualización de una muestra"
   ]
  },
  {
   "cell_type": "code",
   "execution_count": null,
   "id": "0905af37",
   "metadata": {},
   "outputs": [],
   "source": [
    "import numpy as np\n",
    "import matplotlib.pyplot as plt\n",
    "\n",
    "index=1\n",
    "np.set_printoptions(linewidth=320)\n",
    "print(f'label: {training_labels[index]}')\n",
    "print(f'Image:\\n {training_images[index]}')\n",
    "plt.imshow(training_image[index])"
   ]
  },
  {
   "cell_type": "markdown",
   "id": "09f5b574",
   "metadata": {},
   "source": [
    "#### Normalizacipn de los datos"
   ]
  },
  {
   "cell_type": "code",
   "execution_count": null,
   "id": "426a1912",
   "metadata": {},
   "outputs": [],
   "source": [
    "training_images = training_images / 255.0\n",
    "test_images = test_images / 255.0"
   ]
  },
  {
   "cell_type": "markdown",
   "id": "b37c6f52",
   "metadata": {},
   "source": [
    "#### Construccion del modelo"
   ]
  },
  {
   "cell_type": "code",
   "execution_count": null,
   "id": "8cd3aca2",
   "metadata": {},
   "outputs": [],
   "source": [
    "Model = keras.models.Sequential([keras.layers.Flatten(input_shape=(28,28)),\n",
    "                                keras.layers.Dense(128, activation='relu'),\n",
    "                                keres.layers.Dense(10, activation='sofmas')])"
   ]
  },
  {
   "cell_type": "markdown",
   "id": "1f7e120c",
   "metadata": {},
   "source": [
    "#### Compilacion del Modelo"
   ]
  },
  {
   "cell_type": "code",
   "execution_count": null,
   "id": "1f599fed",
   "metadata": {},
   "outputs": [],
   "source": [
    "model. compile(optimizer='adam',\n",
    "              loss='sparse_categorical_crossentropy',\n",
    "              metrics=['accuracy'])\n",
    "model.summary()"
   ]
  },
  {
   "cell_type": "markdown",
   "id": "7b404223",
   "metadata": {},
   "source": [
    "#### Entrenamiento del modelo"
   ]
  },
  {
   "cell_type": "code",
   "execution_count": null,
   "id": "94a5cfc3",
   "metadata": {},
   "outputs": [],
   "source": [
    "history = model.fit(training_images, training_label, epochs = 10)"
   ]
  },
  {
   "cell_type": "markdown",
   "id": "011ebd1c",
   "metadata": {},
   "source": [
    "#### Graficar Hitorial de entrenamiento"
   ]
  },
  {
   "cell_type": "code",
   "execution_count": null,
   "id": "90c66d2d",
   "metadata": {},
   "outputs": [],
   "source": [
    "pd.DataFrame(history.history).plot(grid = True)"
   ]
  },
  {
   "cell_type": "markdown",
   "id": "13dd9d83",
   "metadata": {},
   "source": [
    "#### Evaluacion del modelo"
   ]
  },
  {
   "cell_type": "code",
   "execution_count": null,
   "id": "06dd48d4",
   "metadata": {},
   "outputs": [],
   "source": [
    "loss, accuracy = model.evaluate(training_images, training_labels)\n",
    "print('Pérdida en el conjunto de entrenmiento:', loss)\n",
    "print('Precisión en el conjunto de entrenamiento:', accuracy)\n",
    "\n",
    "loss,accuracy = model.evaluate(test_images, test_labels)\n",
    "print('Perdida en el conjunto de prueba;', loss)\n",
    "print('Precision en el conjunto de prueba', accuracy)"
   ]
  },
  {
   "cell_type": "markdown",
   "id": "4cbd7956",
   "metadata": {},
   "source": [
    "#### Predicción de una muestra"
   ]
  },
  {
   "cell_type": "code",
   "execution_count": null,
   "id": "72935790",
   "metadata": {},
   "outputs": [],
   "source": [
    "loss, accuracy = model.evaluate(test_images, test_labels)\n",
    "print('Perdida en el conjunto de prueba:', loss)\n",
    "print('Precision en el conjunto de prueba:', accuracy)"
   ]
  },
  {
   "cell_type": "markdown",
   "id": "fef8ffa6",
   "metadata": {},
   "source": [
    "1. ¿Qué conjunto de datos se utiliza en este código y qué problema de aprendizaje automático se aborda?"
   ]
  },
  {
   "cell_type": "markdown",
   "id": "dfb3c34f",
   "metadata": {},
   "source": [
    "2. ¿Por qué es importante normalizar los valores de píxeles de las imágenes antes de entrenar el modelo?"
   ]
  },
  {
   "cell_type": "markdown",
   "id": "e3d3a01d",
   "metadata": {},
   "source": [
    "3. ¿Qué arquitectura de red neuronal se utiliza en este código y cuántas capas\n",
    "tiene?"
   ]
  },
  {
   "cell_type": "markdown",
   "id": "b3cb77dd",
   "metadata": {},
   "source": [
    "4. ¿Cuál es la función de activación utilizada en la capa oculta y en la capa de salida de la red neuronal, y por qué se eligen esas funciones?"
   ]
  },
  {
   "cell_type": "markdown",
   "id": "30a51086",
   "metadata": {},
   "source": [
    "5. ¿Qué función de pérdida se utiliza para compilar el modelo y qué métricas se utilizan para evaluar su rendimiento?"
   ]
  },
  {
   "cell_type": "markdown",
   "id": "d749514a",
   "metadata": {},
   "source": [
    "6. ¿Cuántas épocas se utilizan para entrenar el modelo y por qué se elige ese número?"
   ]
  },
  {
   "cell_type": "markdown",
   "id": "049f6cb5",
   "metadata": {},
   "source": [
    "7. ¿Qué signica la función model.summary() y qué información proporciona?"
   ]
  },
  {
   "cell_type": "markdown",
   "id": "e95782ec",
   "metadata": {},
   "source": [
    "#### Ejercicios de exploración"
   ]
  },
  {
   "cell_type": "markdown",
   "id": "41d7d58d",
   "metadata": {},
   "source": [
    "1. Ejecuta la predicción de una muestra y observa que el resultado es una lista de números."
   ]
  },
  {
   "cell_type": "markdown",
   "id": "42639b3f",
   "metadata": {},
   "source": [
    "2. ¿Por qué crees que es así y qué representan esos números?"
   ]
  },
  {
   "cell_type": "markdown",
   "id": "b779d0cf",
   "metadata": {},
   "source": [
    "3. Experimenta con diferentes valores para el número de neuronas en la capa oculta de la red neuronal y observa cómo afecta el rendimiento del modelo."
   ]
  },
  {
   "cell_type": "markdown",
   "id": "999629aa",
   "metadata": {},
   "source": [
    "4. Cambia la función de activación de la capa oculta a \"sigmoid\" o \"tanh\" y observa cómo afecta el rendimiento del modelo."
   ]
  },
  {
   "cell_type": "markdown",
   "id": "e783a150",
   "metadata": {},
   "source": [
    "5. ¿Qué sucedería si eliminas la capa Flatten()?"
   ]
  },
  {
   "cell_type": "markdown",
   "id": "53b10e8c",
   "metadata": {},
   "source": [
    "6. Reflexiona sobre cómo afectaría esto al procesamiento de las imágenes y por qué."
   ]
  },
  {
   "cell_type": "markdown",
   "id": "3910b878",
   "metadata": {},
   "source": [
    "7. Prueba diferentes optimizadores, como \"sgd\" o \"rmsprop\", y observa cómo afectan el rendimiento del modelo."
   ]
  },
  {
   "cell_type": "markdown",
   "id": "1c212eb2",
   "metadata": {},
   "source": [
    "8. Aumenta el número de épocas de entrenamiento y observa cómo afecta el rendimiento del modelo.\n"
   ]
  },
  {
   "cell_type": "markdown",
   "id": "d374be71",
   "metadata": {},
   "source": [
    "9. Modifica la arquitectura de la red neuronal agregando capas adicionales o cambiando el número deneuronas en cada capa, y observa cómo afecta el rendimiento del modelo.\n"
   ]
  },
  {
   "cell_type": "markdown",
   "id": "16f70c2f",
   "metadata": {},
   "source": [
    "10. Elimina la normalización de los valores de píxeles y observa cómo afecta el rendimiento del modelo."
   ]
  },
  {
   "cell_type": "markdown",
   "id": "263b0e6e",
   "metadata": {},
   "source": [
    "11. Considera las capas finales (de salida). ¿Por qué hay 10 de ellas? ¿Qué pasaría si tuvieras una cantidad diferente a 10?"
   ]
  },
  {
   "cell_type": "markdown",
   "id": "52ac55f2",
   "metadata": {},
   "source": [
    "12. Intenta entrenar la red con un número diferente de capas finales y reflexiona sobre cómo afectaría esto a la capacidad de clasicación del modelo."
   ]
  },
  {
   "cell_type": "markdown",
   "id": "6ab2f58b",
   "metadata": {},
   "source": [
    "13. Prueba el modelo con imágenes de prueba y observa cómo se comporta en datos no vistos."
   ]
  },
  {
   "cell_type": "markdown",
   "id": "4c644bc1",
   "metadata": {},
   "source": [
    "Estas preguntas y ejercicios te ayudarán a profundizar tu comprensión del código y a explorardiferentes aspectos del entrenamiento de redes neuronales en el reconocimiento de dígitos escritos a mano usando el conjunto de datos MNIST."
   ]
  }
 ],
 "metadata": {
  "kernelspec": {
   "display_name": "Python 3 (ipykernel)",
   "language": "python",
   "name": "python3"
  },
  "language_info": {
   "codemirror_mode": {
    "name": "ipython",
    "version": 3
   },
   "file_extension": ".py",
   "mimetype": "text/x-python",
   "name": "python",
   "nbconvert_exporter": "python",
   "pygments_lexer": "ipython3",
   "version": "3.11.5"
  }
 },
 "nbformat": 4,
 "nbformat_minor": 5
}
