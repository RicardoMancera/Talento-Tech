{
 "cells": [
  {
   "cell_type": "markdown",
   "id": "52cd7581",
   "metadata": {},
   "source": [
    "conjunto de datos MNIST (Modified National Institute of Standards and Technology) es un conjunto de imágenes que contiene dígitos escritos a mano, ampliamente utilizado como punto de referencia en el campo de la visión por computadora y el aprendizaje automático. Fue creado a partir de dos conjuntos de datos más grandes recopilados por el Instituto Nacional de Estándares y Tecnología de EE. UU."
   ]
  },
  {
   "cell_type": "markdown",
   "id": "915dedea",
   "metadata": {},
   "source": [
    "#### Cargar Conjunto de Datos MNIST"
   ]
  },
  {
   "cell_type": "code",
   "execution_count": 1,
   "id": "dda91ffd",
   "metadata": {},
   "outputs": [
    {
     "name": "stdout",
     "output_type": "stream",
     "text": [
      "Downloading data from https://storage.googleapis.com/tensorflow/tf-keras-datasets/mnist.npz\n",
      "\u001b[1m11490434/11490434\u001b[0m \u001b[32m━━━━━━━━━━━━━━━━━━━━\u001b[0m\u001b[37m\u001b[0m \u001b[1m5s\u001b[0m 0us/step\n"
     ]
    }
   ],
   "source": [
    "import keras\n",
    "mnist = keras.datasets.mnist\n",
    "(training_images, training_labels), (test_images,test_labels)=mnist.load_data()"
   ]
  },
  {
   "cell_type": "markdown",
   "id": "c207f12b",
   "metadata": {},
   "source": [
    "#### Visualización de una muestra"
   ]
  },
  {
   "cell_type": "code",
   "execution_count": 3,
   "id": "0905af37",
   "metadata": {},
   "outputs": [
    {
     "name": "stdout",
     "output_type": "stream",
     "text": [
      "label: 0\n",
      "Image:\n",
      " [[  0   0   0   0   0   0   0   0   0   0   0   0   0   0   0   0   0   0   0   0   0   0   0   0   0   0   0   0]\n",
      " [  0   0   0   0   0   0   0   0   0   0   0   0   0   0   0   0   0   0   0   0   0   0   0   0   0   0   0   0]\n",
      " [  0   0   0   0   0   0   0   0   0   0   0   0   0   0   0   0   0   0   0   0   0   0   0   0   0   0   0   0]\n",
      " [  0   0   0   0   0   0   0   0   0   0   0   0   0   0   0   0   0   0   0   0   0   0   0   0   0   0   0   0]\n",
      " [  0   0   0   0   0   0   0   0   0   0   0   0   0   0   0  51 159 253 159  50   0   0   0   0   0   0   0   0]\n",
      " [  0   0   0   0   0   0   0   0   0   0   0   0   0   0  48 238 252 252 252 237   0   0   0   0   0   0   0   0]\n",
      " [  0   0   0   0   0   0   0   0   0   0   0   0   0  54 227 253 252 239 233 252  57   6   0   0   0   0   0   0]\n",
      " [  0   0   0   0   0   0   0   0   0   0   0  10  60 224 252 253 252 202  84 252 253 122   0   0   0   0   0   0]\n",
      " [  0   0   0   0   0   0   0   0   0   0   0 163 252 252 252 253 252 252  96 189 253 167   0   0   0   0   0   0]\n",
      " [  0   0   0   0   0   0   0   0   0   0  51 238 253 253 190 114 253 228  47  79 255 168   0   0   0   0   0   0]\n",
      " [  0   0   0   0   0   0   0   0   0  48 238 252 252 179  12  75 121  21   0   0 253 243  50   0   0   0   0   0]\n",
      " [  0   0   0   0   0   0   0   0  38 165 253 233 208  84   0   0   0   0   0   0 253 252 165   0   0   0   0   0]\n",
      " [  0   0   0   0   0   0   0   7 178 252 240  71  19  28   0   0   0   0   0   0 253 252 195   0   0   0   0   0]\n",
      " [  0   0   0   0   0   0   0  57 252 252  63   0   0   0   0   0   0   0   0   0 253 252 195   0   0   0   0   0]\n",
      " [  0   0   0   0   0   0   0 198 253 190   0   0   0   0   0   0   0   0   0   0 255 253 196   0   0   0   0   0]\n",
      " [  0   0   0   0   0   0  76 246 252 112   0   0   0   0   0   0   0   0   0   0 253 252 148   0   0   0   0   0]\n",
      " [  0   0   0   0   0   0  85 252 230  25   0   0   0   0   0   0   0   0   7 135 253 186  12   0   0   0   0   0]\n",
      " [  0   0   0   0   0   0  85 252 223   0   0   0   0   0   0   0   0   7 131 252 225  71   0   0   0   0   0   0]\n",
      " [  0   0   0   0   0   0  85 252 145   0   0   0   0   0   0   0  48 165 252 173   0   0   0   0   0   0   0   0]\n",
      " [  0   0   0   0   0   0  86 253 225   0   0   0   0   0   0 114 238 253 162   0   0   0   0   0   0   0   0   0]\n",
      " [  0   0   0   0   0   0  85 252 249 146  48  29  85 178 225 253 223 167  56   0   0   0   0   0   0   0   0   0]\n",
      " [  0   0   0   0   0   0  85 252 252 252 229 215 252 252 252 196 130   0   0   0   0   0   0   0   0   0   0   0]\n",
      " [  0   0   0   0   0   0  28 199 252 252 253 252 252 233 145   0   0   0   0   0   0   0   0   0   0   0   0   0]\n",
      " [  0   0   0   0   0   0   0  25 128 252 253 252 141  37   0   0   0   0   0   0   0   0   0   0   0   0   0   0]\n",
      " [  0   0   0   0   0   0   0   0   0   0   0   0   0   0   0   0   0   0   0   0   0   0   0   0   0   0   0   0]\n",
      " [  0   0   0   0   0   0   0   0   0   0   0   0   0   0   0   0   0   0   0   0   0   0   0   0   0   0   0   0]\n",
      " [  0   0   0   0   0   0   0   0   0   0   0   0   0   0   0   0   0   0   0   0   0   0   0   0   0   0   0   0]\n",
      " [  0   0   0   0   0   0   0   0   0   0   0   0   0   0   0   0   0   0   0   0   0   0   0   0   0   0   0   0]]\n"
     ]
    },
    {
     "data": {
      "text/plain": [
       "<matplotlib.image.AxesImage at 0x1f43f304210>"
      ]
     },
     "execution_count": 3,
     "metadata": {},
     "output_type": "execute_result"
    },
    {
     "data": {
      "image/png": "[encoded data removed]",
      "text/plain": [
       "<Figure size 640x480 with 1 Axes>"
      ]
     },
     "metadata": {},
     "output_type": "display_data"
    }
   ],
   "source": [
    "import numpy as np\n",
    "import matplotlib.pyplot as plt\n",
    "\n",
    "index=1\n",
    "np.set_printoptions(linewidth=320)\n",
    "print(f'label: {training_labels[index]}')\n",
    "print(f'Image:\\n {training_images[index]}')\n",
    "plt.imshow(training_images[index])"
   ]
  },
  {
   "cell_type": "markdown",
   "id": "09f5b574",
   "metadata": {},
   "source": [
    "#### Normalizacipn de los datos"
   ]
  },
  {
   "cell_type": "code",
   "execution_count": 4,
   "id": "426a1912",
   "metadata": {},
   "outputs": [],
   "source": [
    "training_images = training_images / 255.0\n",
    "test_images = test_images / 255.0"
   ]
  },
  {
   "cell_type": "markdown",
   "id": "b37c6f52",
   "metadata": {},
   "source": [
    "#### Construccion del modelo"
   ]
  },
  {
   "cell_type": "code",
   "execution_count": 16,
   "id": "8cd3aca2",
   "metadata": {},
   "outputs": [],
   "source": [
    "model = keras.models.Sequential([keras.layers.Flatten(input_shape=(28,28)),\n",
    "                                keras.layers.Dense(128, activation='relu'),\n",
    "                                keras.layers.Dense(10, activation='softmax')])"
   ]
  },
  {
   "cell_type": "markdown",
   "id": "1f7e120c",
   "metadata": {},
   "source": [
    "#### Compilacion del Modelo"
   ]
  },
  {
   "cell_type": "code",
   "execution_count": 17,
   "id": "1f599fed",
   "metadata": {},
   "outputs": [
    {
     "data": {
      "text/html": [
       "<pre style=\"white-space:pre;overflow-x:auto;line-height:normal;font-family:Menlo,'DejaVu Sans Mono',consolas,'Courier New',monospace\"><span style=\"font-weight: bold\">Model: \"sequential_1\"</span>\n",
       "</pre>\n"
      ],
      "text/plain": [
       "\u001b[1mModel: \"sequential_1\"\u001b[0m\n"
      ]
     },
     "metadata": {},
     "output_type": "display_data"
    },
    {
     "data": {
      "text/html": [
       "<pre style=\"white-space:pre;overflow-x:auto;line-height:normal;font-family:Menlo,'DejaVu Sans Mono',consolas,'Courier New',monospace\">┏━━━━━━━━━━━━━━━━━━━━━━━━━━━━━━━━━┳━━━━━━━━━━━━━━━━━━━━━━━━┳━━━━━━━━━━━━━━━┓\n",
       "┃<span style=\"font-weight: bold\"> Layer (type)                    </span>┃<span style=\"font-weight: bold\"> Output Shape           </span>┃<span style=\"font-weight: bold\">       Param # </span>┃\n",
       "┡━━━━━━━━━━━━━━━━━━━━━━━━━━━━━━━━━╇━━━━━━━━━━━━━━━━━━━━━━━━╇━━━━━━━━━━━━━━━┩\n",
       "│ flatten_4 (<span style=\"color: #0087ff; text-decoration-color: #0087ff\">Flatten</span>)             │ (<span style=\"color: #00d7ff; text-decoration-color: #00d7ff\">None</span>, <span style=\"color: #00af00; text-decoration-color: #00af00\">784</span>)            │             <span style=\"color: #00af00; text-decoration-color: #00af00\">0</span> │\n",
       "├─────────────────────────────────┼────────────────────────┼───────────────┤\n",
       "│ dense_7 (<span style=\"color: #0087ff; text-decoration-color: #0087ff\">Dense</span>)                 │ (<span style=\"color: #00d7ff; text-decoration-color: #00d7ff\">None</span>, <span style=\"color: #00af00; text-decoration-color: #00af00\">128</span>)            │       <span style=\"color: #00af00; text-decoration-color: #00af00\">100,480</span> │\n",
       "├─────────────────────────────────┼────────────────────────┼───────────────┤\n",
       "│ dense_8 (<span style=\"color: #0087ff; text-decoration-color: #0087ff\">Dense</span>)                 │ (<span style=\"color: #00d7ff; text-decoration-color: #00d7ff\">None</span>, <span style=\"color: #00af00; text-decoration-color: #00af00\">10</span>)             │         <span style=\"color: #00af00; text-decoration-color: #00af00\">1,290</span> │\n",
       "└─────────────────────────────────┴────────────────────────┴───────────────┘\n",
       "</pre>\n"
      ],
      "text/plain": [
       "┏━━━━━━━━━━━━━━━━━━━━━━━━━━━━━━━━━┳━━━━━━━━━━━━━━━━━━━━━━━━┳━━━━━━━━━━━━━━━┓\n",
       "┃\u001b[1m \u001b[0m\u001b[1mLayer (type)                   \u001b[0m\u001b[1m \u001b[0m┃\u001b[1m \u001b[0m\u001b[1mOutput Shape          \u001b[0m\u001b[1m \u001b[0m┃\u001b[1m \u001b[0m\u001b[1m      Param #\u001b[0m\u001b[1m \u001b[0m┃\n",
       "┡━━━━━━━━━━━━━━━━━━━━━━━━━━━━━━━━━╇━━━━━━━━━━━━━━━━━━━━━━━━╇━━━━━━━━━━━━━━━┩\n",
       "│ flatten_4 (\u001b[38;5;33mFlatten\u001b[0m)             │ (\u001b[38;5;45mNone\u001b[0m, \u001b[38;5;34m784\u001b[0m)            │             \u001b[38;5;34m0\u001b[0m │\n",
       "├─────────────────────────────────┼────────────────────────┼───────────────┤\n",
       "│ dense_7 (\u001b[38;5;33mDense\u001b[0m)                 │ (\u001b[38;5;45mNone\u001b[0m, \u001b[38;5;34m128\u001b[0m)            │       \u001b[38;5;34m100,480\u001b[0m │\n",
       "├─────────────────────────────────┼────────────────────────┼───────────────┤\n",
       "│ dense_8 (\u001b[38;5;33mDense\u001b[0m)                 │ (\u001b[38;5;45mNone\u001b[0m, \u001b[38;5;34m10\u001b[0m)             │         \u001b[38;5;34m1,290\u001b[0m │\n",
       "└─────────────────────────────────┴────────────────────────┴───────────────┘\n"
      ]
     },
     "metadata": {},
     "output_type": "display_data"
    },
    {
     "data": {
      "text/html": [
       "<pre style=\"white-space:pre;overflow-x:auto;line-height:normal;font-family:Menlo,'DejaVu Sans Mono',consolas,'Courier New',monospace\"><span style=\"font-weight: bold\"> Total params: </span><span style=\"color: #00af00; text-decoration-color: #00af00\">101,770</span> (397.54 KB)\n",
       "</pre>\n"
      ],
      "text/plain": [
       "\u001b[1m Total params: \u001b[0m\u001b[38;5;34m101,770\u001b[0m (397.54 KB)\n"
      ]
     },
     "metadata": {},
     "output_type": "display_data"
    },
    {
     "data": {
      "text/html": [
       "<pre style=\"white-space:pre;overflow-x:auto;line-height:normal;font-family:Menlo,'DejaVu Sans Mono',consolas,'Courier New',monospace\"><span style=\"font-weight: bold\"> Trainable params: </span><span style=\"color: #00af00; text-decoration-color: #00af00\">101,770</span> (397.54 KB)\n",
       "</pre>\n"
      ],
      "text/plain": [
       "\u001b[1m Trainable params: \u001b[0m\u001b[38;5;34m101,770\u001b[0m (397.54 KB)\n"
      ]
     },
     "metadata": {},
     "output_type": "display_data"
    },
    {
     "data": {
      "text/html": [
       "<pre style=\"white-space:pre;overflow-x:auto;line-height:normal;font-family:Menlo,'DejaVu Sans Mono',consolas,'Courier New',monospace\"><span style=\"font-weight: bold\"> Non-trainable params: </span><span style=\"color: #00af00; text-decoration-color: #00af00\">0</span> (0.00 B)\n",
       "</pre>\n"
      ],
      "text/plain": [
       "\u001b[1m Non-trainable params: \u001b[0m\u001b[38;5;34m0\u001b[0m (0.00 B)\n"
      ]
     },
     "metadata": {},
     "output_type": "display_data"
    }
   ],
   "source": [
    "model.compile(optimizer='adam',\n",
    "              loss='sparse_categorical_crossentropy',\n",
    "              metrics=['accuracy'])\n",
    "model.summary()"
   ]
  },
  {
   "cell_type": "markdown",
   "id": "7b404223",
   "metadata": {},
   "source": [
    "#### Entrenamiento del modelo"
   ]
  },
  {
   "cell_type": "code",
   "execution_count": 19,
   "id": "94a5cfc3",
   "metadata": {},
   "outputs": [
    {
     "name": "stdout",
     "output_type": "stream",
     "text": [
      "Epoch 1/10\n",
      "\u001b[1m1875/1875\u001b[0m \u001b[32m━━━━━━━━━━━━━━━━━━━━\u001b[0m\u001b[37m\u001b[0m \u001b[1m2s\u001b[0m 1ms/step - accuracy: 0.8746 - loss: 0.4369\n",
      "Epoch 2/10\n",
      "\u001b[1m1875/1875\u001b[0m \u001b[32m━━━━━━━━━━━━━━━━━━━━\u001b[0m\u001b[37m\u001b[0m \u001b[1m2s\u001b[0m 995us/step - accuracy: 0.9640 - loss: 0.1209\n",
      "Epoch 3/10\n",
      "\u001b[1m1875/1875\u001b[0m \u001b[32m━━━━━━━━━━━━━━━━━━━━\u001b[0m\u001b[37m\u001b[0m \u001b[1m2s\u001b[0m 1ms/step - accuracy: 0.9766 - loss: 0.0786\n",
      "Epoch 4/10\n",
      "\u001b[1m1875/1875\u001b[0m \u001b[32m━━━━━━━━━━━━━━━━━━━━\u001b[0m\u001b[37m\u001b[0m \u001b[1m2s\u001b[0m 1ms/step - accuracy: 0.9840 - loss: 0.0546\n",
      "Epoch 5/10\n",
      "\u001b[1m1875/1875\u001b[0m \u001b[32m━━━━━━━━━━━━━━━━━━━━\u001b[0m\u001b[37m\u001b[0m \u001b[1m2s\u001b[0m 1ms/step - accuracy: 0.9873 - loss: 0.0431\n",
      "Epoch 6/10\n",
      "\u001b[1m1875/1875\u001b[0m \u001b[32m━━━━━━━━━━━━━━━━━━━━\u001b[0m\u001b[37m\u001b[0m \u001b[1m2s\u001b[0m 1ms/step - accuracy: 0.9903 - loss: 0.0327\n",
      "Epoch 7/10\n",
      "\u001b[1m1875/1875\u001b[0m \u001b[32m━━━━━━━━━━━━━━━━━━━━\u001b[0m\u001b[37m\u001b[0m \u001b[1m2s\u001b[0m 1ms/step - accuracy: 0.9922 - loss: 0.0258\n",
      "Epoch 8/10\n",
      "\u001b[1m1875/1875\u001b[0m \u001b[32m━━━━━━━━━━━━━━━━━━━━\u001b[0m\u001b[37m\u001b[0m \u001b[1m2s\u001b[0m 1ms/step - accuracy: 0.9937 - loss: 0.0208\n",
      "Epoch 9/10\n",
      "\u001b[1m1875/1875\u001b[0m \u001b[32m━━━━━━━━━━━━━━━━━━━━\u001b[0m\u001b[37m\u001b[0m \u001b[1m2s\u001b[0m 1ms/step - accuracy: 0.9954 - loss: 0.0170\n",
      "Epoch 10/10\n",
      "\u001b[1m1875/1875\u001b[0m \u001b[32m━━━━━━━━━━━━━━━━━━━━\u001b[0m\u001b[37m\u001b[0m \u001b[1m2s\u001b[0m 1ms/step - accuracy: 0.9954 - loss: 0.0145\n"
     ]
    }
   ],
   "source": [
    "history = model.fit(training_images, training_labels,epochs=10)"
   ]
  },
  {
   "cell_type": "markdown",
   "id": "011ebd1c",
   "metadata": {},
   "source": [
    "#### Graficar Hitorial de entrenamiento"
   ]
  },
  {
   "cell_type": "code",
   "execution_count": 20,
   "id": "90c66d2d",
   "metadata": {},
   "outputs": [
    {
     "data": {
      "text/plain": [
       "<Axes: >"
      ]
     },
     "execution_count": 20,
     "metadata": {},
     "output_type": "execute_result"
    },
    {
     "data": {
      "image/png": "[encoded data removed]",
      "text/plain": [
       "<Figure size 640x480 with 1 Axes>"
      ]
     },
     "metadata": {},
     "output_type": "display_data"
    }
   ],
   "source": [
    "import pandas as pd\n",
    "pd.DataFrame(history.history).plot(grid = True)"
   ]
  },
  {
   "cell_type": "markdown",
   "id": "13dd9d83",
   "metadata": {},
   "source": [
    "#### Evaluacion del modelo"
   ]
  },
  {
   "cell_type": "code",
   "execution_count": 21,
   "id": "06dd48d4",
   "metadata": {},
   "outputs": [
    {
     "name": "stdout",
     "output_type": "stream",
     "text": [
      "\u001b[1m1875/1875\u001b[0m \u001b[32m━━━━━━━━━━━━━━━━━━━━\u001b[0m\u001b[37m\u001b[0m \u001b[1m1s\u001b[0m 678us/step - accuracy: 0.9970 - loss: 0.0103\n",
      "Pérdida en el conjunto de entrenmiento: 0.010898065753281116\n",
      "Precisión en el conjunto de entrenamiento: 0.9968833327293396\n",
      "\u001b[1m313/313\u001b[0m \u001b[32m━━━━━━━━━━━━━━━━━━━━\u001b[0m\u001b[37m\u001b[0m \u001b[1m0s\u001b[0m 913us/step - accuracy: 0.9765 - loss: 0.0932\n",
      "Perdida en el conjunto de prueba; 0.08102955669164658\n",
      "Precision en el conjunto de prueba 0.979200005531311\n"
     ]
    }
   ],
   "source": [
    "loss, accuracy = model.evaluate(training_images, training_labels)\n",
    "print('Pérdida en el conjunto de entrenmiento:', loss)\n",
    "print('Precisión en el conjunto de entrenamiento:', accuracy)\n",
    "\n",
    "loss,accuracy = model.evaluate(test_images, test_labels)\n",
    "print('Perdida en el conjunto de prueba;', loss)\n",
    "print('Precision en el conjunto de prueba', accuracy)"
   ]
  },
  {
   "cell_type": "markdown",
   "id": "4cbd7956",
   "metadata": {},
   "source": [
    "#### Predicción de una muestra"
   ]
  },
  {
   "cell_type": "code",
   "execution_count": 22,
   "id": "72935790",
   "metadata": {},
   "outputs": [
    {
     "name": "stdout",
     "output_type": "stream",
     "text": [
      "\u001b[1m313/313\u001b[0m \u001b[32m━━━━━━━━━━━━━━━━━━━━\u001b[0m\u001b[37m\u001b[0m \u001b[1m0s\u001b[0m 972us/step - accuracy: 0.9765 - loss: 0.0932\n",
      "Perdida en el conjunto de prueba: 0.08102955669164658\n",
      "Precision en el conjunto de prueba: 0.979200005531311\n"
     ]
    }
   ],
   "source": [
    "loss, accuracy = model.evaluate(test_images, test_labels)\n",
    "print('Perdida en el conjunto de prueba:', loss)\n",
    "print('Precision en el conjunto de prueba:', accuracy)"
   ]
  },
  {
   "cell_type": "markdown",
   "id": "fef8ffa6",
   "metadata": {},
   "source": [
    "1. ¿Qué conjunto de datos se utiliza en este código y qué problema de aprendizaje automático se aborda?"
   ]
  },
  {
   "cell_type": "markdown",
   "id": "dfb3c34f",
   "metadata": {},
   "source": [
    "2. ¿Por qué es importante normalizar los valores de píxeles de las imágenes antes de entrenar el modelo?"
   ]
  },
  {
   "cell_type": "markdown",
   "id": "e3d3a01d",
   "metadata": {},
   "source": [
    "3. ¿Qué arquitectura de red neuronal se utiliza en este código y cuántas capas\n",
    "tiene?"
   ]
  },
  {
   "cell_type": "markdown",
   "id": "b3cb77dd",
   "metadata": {},
   "source": [
    "4. ¿Cuál es la función de activación utilizada en la capa oculta y en la capa de salida de la red neuronal, y por qué se eligen esas funciones?"
   ]
  },
  {
   "cell_type": "markdown",
   "id": "30a51086",
   "metadata": {},
   "source": [
    "5. ¿Qué función de pérdida se utiliza para compilar el modelo y qué métricas se utilizan para evaluar su rendimiento?"
   ]
  },
  {
   "cell_type": "markdown",
   "id": "d749514a",
   "metadata": {},
   "source": [
    "6. ¿Cuántas épocas se utilizan para entrenar el modelo y por qué se elige ese número?"
   ]
  },
  {
   "cell_type": "markdown",
   "id": "049f6cb5",
   "metadata": {},
   "source": [
    "7. ¿Qué signica la función model.summary() y qué información proporciona?"
   ]
  },
  {
   "cell_type": "markdown",
   "id": "e95782ec",
   "metadata": {},
   "source": [
    "#### Ejercicios de exploración"
   ]
  },
  {
   "cell_type": "markdown",
   "id": "41d7d58d",
   "metadata": {},
   "source": [
    "1. Ejecuta la predicción de una muestra y observa que el resultado es una lista de números."
   ]
  },
  {
   "cell_type": "markdown",
   "id": "42639b3f",
   "metadata": {},
   "source": [
    "2. ¿Por qué crees que es así y qué representan esos números?"
   ]
  },
  {
   "cell_type": "markdown",
   "id": "b779d0cf",
   "metadata": {},
   "source": [
    "3. Experimenta con diferentes valores para el número de neuronas en la capa oculta de la red neuronal y observa cómo afecta el rendimiento del modelo."
   ]
  },
  {
   "cell_type": "markdown",
   "id": "999629aa",
   "metadata": {},
   "source": [
    "4. Cambia la función de activación de la capa oculta a \"sigmoid\" o \"tanh\" y observa cómo afecta el rendimiento del modelo."
   ]
  },
  {
   "cell_type": "markdown",
   "id": "e783a150",
   "metadata": {},
   "source": [
    "5. ¿Qué sucedería si eliminas la capa Flatten()?"
   ]
  },
  {
   "cell_type": "markdown",
   "id": "53b10e8c",
   "metadata": {},
   "source": [
    "6. Reflexiona sobre cómo afectaría esto al procesamiento de las imágenes y por qué."
   ]
  },
  {
   "cell_type": "markdown",
   "id": "3910b878",
   "metadata": {},
   "source": [
    "7. Prueba diferentes optimizadores, como \"sgd\" o \"rmsprop\", y observa cómo afectan el rendimiento del modelo."
   ]
  },
  {
   "cell_type": "markdown",
   "id": "1c212eb2",
   "metadata": {},
   "source": [
    "8. Aumenta el número de épocas de entrenamiento y observa cómo afecta el rendimiento del modelo.\n"
   ]
  },
  {
   "cell_type": "markdown",
   "id": "d374be71",
   "metadata": {},
   "source": [
    "9. Modifica la arquitectura de la red neuronal agregando capas adicionales o cambiando el número deneuronas en cada capa, y observa cómo afecta el rendimiento del modelo.\n"
   ]
  },
  {
   "cell_type": "markdown",
   "id": "16f70c2f",
   "metadata": {},
   "source": [
    "10. Elimina la normalización de los valores de píxeles y observa cómo afecta el rendimiento del modelo."
   ]
  },
  {
   "cell_type": "markdown",
   "id": "263b0e6e",
   "metadata": {},
   "source": [
    "11. Considera las capas finales (de salida). ¿Por qué hay 10 de ellas? ¿Qué pasaría si tuvieras una cantidad diferente a 10?"
   ]
  },
  {
   "cell_type": "markdown",
   "id": "52ac55f2",
   "metadata": {},
   "source": [
    "12. Intenta entrenar la red con un número diferente de capas finales y reflexiona sobre cómo afectaría esto a la capacidad de clasicación del modelo."
   ]
  },
  {
   "cell_type": "markdown",
   "id": "6ab2f58b",
   "metadata": {},
   "source": [
    "13. Prueba el modelo con imágenes de prueba y observa cómo se comporta en datos no vistos."
   ]
  },
  {
   "cell_type": "markdown",
   "id": "4c644bc1",
   "metadata": {},
   "source": [
    "Estas preguntas y ejercicios te ayudarán a profundizar tu comprensión del código y a explorardiferentes aspectos del entrenamiento de redes neuronales en el reconocimiento de dígitos escritos a mano usando el conjunto de datos MNIST."
   ]
  }
 ],
 "metadata": {
  "kernelspec": {
   "display_name": "Python 3 (ipykernel)",
   "language": "python",
   "name": "python3"
  },
  "language_info": {
   "codemirror_mode": {
    "name": "ipython",
    "version": 3
   },
   "file_extension": ".py",
   "mimetype": "text/x-python",
   "name": "python",
   "nbconvert_exporter": "python",
   "pygments_lexer": "ipython3",
   "version": "3.11.5"
  }
 },
 "nbformat": 4,
 "nbformat_minor": 5
}
